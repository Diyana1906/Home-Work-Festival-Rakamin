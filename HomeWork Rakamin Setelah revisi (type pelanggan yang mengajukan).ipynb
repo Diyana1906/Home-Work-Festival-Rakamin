{
 "cells": [
  {
   "cell_type": "markdown",
   "id": "1815bdfd",
   "metadata": {},
   "source": [
    "# Import Library"
   ]
  },
  {
   "cell_type": "code",
   "execution_count": 1,
   "id": "cc27b72b",
   "metadata": {},
   "outputs": [],
   "source": [
    "import numpy as np\n",
    "import pandas as pd \n",
    "import matplotlib.pyplot as plt\n",
    "import seaborn as sns\n"
   ]
  },
  {
   "cell_type": "markdown",
   "id": "18d49b89",
   "metadata": {},
   "source": [
    "# Load DataSet "
   ]
  },
  {
   "cell_type": "code",
   "execution_count": 2,
   "id": "34c45ae9",
   "metadata": {},
   "outputs": [],
   "source": [
    "df = pd.read_csv('loan_customer.csv')"
   ]
  },
  {
   "cell_type": "code",
   "execution_count": 3,
   "id": "998e81b2",
   "metadata": {},
   "outputs": [
    {
     "data": {
      "text/html": [
       "<div>\n",
       "<style scoped>\n",
       "    .dataframe tbody tr th:only-of-type {\n",
       "        vertical-align: middle;\n",
       "    }\n",
       "\n",
       "    .dataframe tbody tr th {\n",
       "        vertical-align: top;\n",
       "    }\n",
       "\n",
       "    .dataframe thead th {\n",
       "        text-align: right;\n",
       "    }\n",
       "</style>\n",
       "<table border=\"1\" class=\"dataframe\">\n",
       "  <thead>\n",
       "    <tr style=\"text-align: right;\">\n",
       "      <th></th>\n",
       "      <th>loan_id</th>\n",
       "      <th>birth_date</th>\n",
       "      <th>phone_number</th>\n",
       "      <th>gender</th>\n",
       "      <th>married</th>\n",
       "      <th>dependents</th>\n",
       "      <th>education</th>\n",
       "      <th>self_employed</th>\n",
       "      <th>applicant_income</th>\n",
       "      <th>coapplicant_income</th>\n",
       "      <th>loan_amount</th>\n",
       "      <th>loan_term_month</th>\n",
       "      <th>loan_term_year</th>\n",
       "      <th>credit_history</th>\n",
       "      <th>has_credit_card</th>\n",
       "      <th>property_type</th>\n",
       "      <th>loan_status</th>\n",
       "    </tr>\n",
       "  </thead>\n",
       "  <tbody>\n",
       "    <tr>\n",
       "      <th>0</th>\n",
       "      <td>LP001002</td>\n",
       "      <td>1977-05-15</td>\n",
       "      <td>6.281142e+11</td>\n",
       "      <td>Male</td>\n",
       "      <td>No</td>\n",
       "      <td>0</td>\n",
       "      <td>Graduate</td>\n",
       "      <td>No</td>\n",
       "      <td>5849.0</td>\n",
       "      <td>0.0</td>\n",
       "      <td>100000</td>\n",
       "      <td>360</td>\n",
       "      <td>30</td>\n",
       "      <td>1.0</td>\n",
       "      <td>NaN</td>\n",
       "      <td>house</td>\n",
       "      <td>APPROVE</td>\n",
       "    </tr>\n",
       "    <tr>\n",
       "      <th>1</th>\n",
       "      <td>LP001003</td>\n",
       "      <td>1979-08-24</td>\n",
       "      <td>6.287764e+11</td>\n",
       "      <td>Male</td>\n",
       "      <td>Yes</td>\n",
       "      <td>1</td>\n",
       "      <td>Graduate</td>\n",
       "      <td>No</td>\n",
       "      <td>4583.0</td>\n",
       "      <td>1508.0</td>\n",
       "      <td>128000</td>\n",
       "      <td>360</td>\n",
       "      <td>30</td>\n",
       "      <td>1.0</td>\n",
       "      <td>NaN</td>\n",
       "      <td>studio</td>\n",
       "      <td>REJECT</td>\n",
       "    </tr>\n",
       "    <tr>\n",
       "      <th>2</th>\n",
       "      <td>LP001005</td>\n",
       "      <td>1991-03-28</td>\n",
       "      <td>6.281192e+11</td>\n",
       "      <td>Male</td>\n",
       "      <td>Yes</td>\n",
       "      <td>0</td>\n",
       "      <td>Graduate</td>\n",
       "      <td>Yes</td>\n",
       "      <td>3000.0</td>\n",
       "      <td>0.0</td>\n",
       "      <td>66000</td>\n",
       "      <td>360</td>\n",
       "      <td>30</td>\n",
       "      <td>1.0</td>\n",
       "      <td>NaN</td>\n",
       "      <td>house</td>\n",
       "      <td>APPROVE</td>\n",
       "    </tr>\n",
       "    <tr>\n",
       "      <th>3</th>\n",
       "      <td>LP001006</td>\n",
       "      <td>1980-06-02</td>\n",
       "      <td>6.285634e+10</td>\n",
       "      <td>Male</td>\n",
       "      <td>Yes</td>\n",
       "      <td>0</td>\n",
       "      <td>Not Graduate</td>\n",
       "      <td>No</td>\n",
       "      <td>2583.0</td>\n",
       "      <td>2358.0</td>\n",
       "      <td>120000</td>\n",
       "      <td>360</td>\n",
       "      <td>30</td>\n",
       "      <td>1.0</td>\n",
       "      <td>NaN</td>\n",
       "      <td>house</td>\n",
       "      <td>APPROVE</td>\n",
       "    </tr>\n",
       "    <tr>\n",
       "      <th>4</th>\n",
       "      <td>LP001008</td>\n",
       "      <td>1989-05-19</td>\n",
       "      <td>6.281130e+11</td>\n",
       "      <td>Male</td>\n",
       "      <td>No</td>\n",
       "      <td>0</td>\n",
       "      <td>Graduate</td>\n",
       "      <td>No</td>\n",
       "      <td>6000.0</td>\n",
       "      <td>0.0</td>\n",
       "      <td>141000</td>\n",
       "      <td>360</td>\n",
       "      <td>30</td>\n",
       "      <td>1.0</td>\n",
       "      <td>NaN</td>\n",
       "      <td>house</td>\n",
       "      <td>APPROVE</td>\n",
       "    </tr>\n",
       "  </tbody>\n",
       "</table>\n",
       "</div>"
      ],
      "text/plain": [
       "    loan_id  birth_date  phone_number gender married dependents     education  \\\n",
       "0  LP001002  1977-05-15  6.281142e+11   Male      No          0      Graduate   \n",
       "1  LP001003  1979-08-24  6.287764e+11   Male     Yes          1      Graduate   \n",
       "2  LP001005  1991-03-28  6.281192e+11   Male     Yes          0      Graduate   \n",
       "3  LP001006  1980-06-02  6.285634e+10   Male     Yes          0  Not Graduate   \n",
       "4  LP001008  1989-05-19  6.281130e+11   Male      No          0      Graduate   \n",
       "\n",
       "  self_employed  applicant_income  coapplicant_income  loan_amount  \\\n",
       "0            No            5849.0                 0.0       100000   \n",
       "1            No            4583.0              1508.0       128000   \n",
       "2           Yes            3000.0                 0.0        66000   \n",
       "3            No            2583.0              2358.0       120000   \n",
       "4            No            6000.0                 0.0       141000   \n",
       "\n",
       "   loan_term_month  loan_term_year  credit_history has_credit_card  \\\n",
       "0              360              30             1.0             NaN   \n",
       "1              360              30             1.0             NaN   \n",
       "2              360              30             1.0             NaN   \n",
       "3              360              30             1.0             NaN   \n",
       "4              360              30             1.0             NaN   \n",
       "\n",
       "  property_type loan_status  \n",
       "0         house     APPROVE  \n",
       "1        studio      REJECT  \n",
       "2         house     APPROVE  \n",
       "3         house     APPROVE  \n",
       "4         house     APPROVE  "
      ]
     },
     "execution_count": 3,
     "metadata": {},
     "output_type": "execute_result"
    }
   ],
   "source": [
    "df.head()"
   ]
  },
  {
   "cell_type": "code",
   "execution_count": 4,
   "id": "82fe0deb",
   "metadata": {},
   "outputs": [
    {
     "name": "stdout",
     "output_type": "stream",
     "text": [
      "<class 'pandas.core.frame.DataFrame'>\n",
      "RangeIndex: 621 entries, 0 to 620\n",
      "Data columns (total 17 columns):\n",
      " #   Column              Non-Null Count  Dtype  \n",
      "---  ------              --------------  -----  \n",
      " 0   loan_id             621 non-null    object \n",
      " 1   birth_date          572 non-null    object \n",
      " 2   phone_number        569 non-null    float64\n",
      " 3   gender              608 non-null    object \n",
      " 4   married             618 non-null    object \n",
      " 5   dependents          605 non-null    object \n",
      " 6   education           620 non-null    object \n",
      " 7   self_employed       588 non-null    object \n",
      " 8   applicant_income    612 non-null    float64\n",
      " 9   coapplicant_income  621 non-null    float64\n",
      " 10  loan_amount         621 non-null    int64  \n",
      " 11  loan_term_month     621 non-null    int64  \n",
      " 12  loan_term_year      621 non-null    int64  \n",
      " 13  credit_history      570 non-null    float64\n",
      " 14  has_credit_card     88 non-null     object \n",
      " 15  property_type       620 non-null    object \n",
      " 16  loan_status         621 non-null    object \n",
      "dtypes: float64(4), int64(3), object(10)\n",
      "memory usage: 82.6+ KB\n"
     ]
    }
   ],
   "source": [
    "df.info()"
   ]
  },
  {
   "cell_type": "markdown",
   "id": "16edc0a1",
   "metadata": {},
   "source": [
    "Pengamatan\n",
    "1. Data terdiri dari 621 baris\n",
    "2. Tampak beberapa kolom masih memiliki null/missing values (Non-Null Count < jumlah baris)\n",
    "3. Tipe kolom birth_date memiliki tipe yang salah (seharusnya dalam bentuk int), sedangkan kolom lainnya sepertinya tidak ada issue yang mencolok pada tipe data (sudah sesuai)"
   ]
  },
  {
   "cell_type": "markdown",
   "id": "497d89b8",
   "metadata": {},
   "source": [
    "# Data Cleaning"
   ]
  },
  {
   "cell_type": "markdown",
   "id": "b5f11232",
   "metadata": {},
   "source": [
    "## Missing Value"
   ]
  },
  {
   "cell_type": "markdown",
   "id": "4cd67ab9",
   "metadata": {},
   "source": [
    "### mengecek jumlah entry NULL di setiap kolom "
   ]
  },
  {
   "cell_type": "code",
   "execution_count": 5,
   "id": "d69cc07e",
   "metadata": {},
   "outputs": [
    {
     "data": {
      "text/plain": [
       "loan_id                 0\n",
       "birth_date             49\n",
       "phone_number           52\n",
       "gender                 13\n",
       "married                 3\n",
       "dependents             16\n",
       "education               1\n",
       "self_employed          33\n",
       "applicant_income        9\n",
       "coapplicant_income      0\n",
       "loan_amount             0\n",
       "loan_term_month         0\n",
       "loan_term_year          0\n",
       "credit_history         51\n",
       "has_credit_card       533\n",
       "property_type           1\n",
       "loan_status             0\n",
       "dtype: int64"
      ]
     },
     "execution_count": 5,
     "metadata": {},
     "output_type": "execute_result"
    }
   ],
   "source": [
    "df.isna().sum()"
   ]
  },
  {
   "cell_type": "code",
   "execution_count": 6,
   "id": "0437acdd",
   "metadata": {},
   "outputs": [],
   "source": [
    "#mengubah tipe kolom birth_date menjadi datetime (integral)\n",
    "df['birth_date']=pd.to_datetime(df['birth_date'])"
   ]
  },
  {
   "cell_type": "code",
   "execution_count": 7,
   "id": "d698f08d",
   "metadata": {},
   "outputs": [
    {
     "name": "stdout",
     "output_type": "stream",
     "text": [
      "<class 'pandas.core.frame.DataFrame'>\n",
      "RangeIndex: 621 entries, 0 to 620\n",
      "Data columns (total 17 columns):\n",
      " #   Column              Non-Null Count  Dtype         \n",
      "---  ------              --------------  -----         \n",
      " 0   loan_id             621 non-null    object        \n",
      " 1   birth_date          572 non-null    datetime64[ns]\n",
      " 2   phone_number        569 non-null    float64       \n",
      " 3   gender              608 non-null    object        \n",
      " 4   married             618 non-null    object        \n",
      " 5   dependents          605 non-null    object        \n",
      " 6   education           620 non-null    object        \n",
      " 7   self_employed       588 non-null    object        \n",
      " 8   applicant_income    612 non-null    float64       \n",
      " 9   coapplicant_income  621 non-null    float64       \n",
      " 10  loan_amount         621 non-null    int64         \n",
      " 11  loan_term_month     621 non-null    int64         \n",
      " 12  loan_term_year      621 non-null    int64         \n",
      " 13  credit_history      570 non-null    float64       \n",
      " 14  has_credit_card     88 non-null     object        \n",
      " 15  property_type       620 non-null    object        \n",
      " 16  loan_status         621 non-null    object        \n",
      "dtypes: datetime64[ns](1), float64(4), int64(3), object(9)\n",
      "memory usage: 82.6+ KB\n"
     ]
    }
   ],
   "source": [
    "df.info()"
   ]
  },
  {
   "cell_type": "markdown",
   "id": "c6ed1da1",
   "metadata": {},
   "source": [
    "tipe kolom birth_date berhasil diubah menjadi int dengan datetime -> menghapus data kosong \n",
    "1. dari info tersebut juga dapat dilihat bahwa kolom has_credit_card memiliki banyak data kosong 533 data"
   ]
  },
  {
   "cell_type": "markdown",
   "id": "95e937d1",
   "metadata": {},
   "source": [
    "### Jika ada kolom dengan data kosong yang sangat banyak, maka kolom tersebut bisa dihapus aja"
   ]
  },
  {
   "cell_type": "code",
   "execution_count": 8,
   "id": "5756c429",
   "metadata": {},
   "outputs": [],
   "source": [
    "df.drop('has_credit_card', axis=1, inplace=True)"
   ]
  },
  {
   "cell_type": "code",
   "execution_count": 9,
   "id": "98ab44d6",
   "metadata": {},
   "outputs": [
    {
     "data": {
      "text/html": [
       "<div>\n",
       "<style scoped>\n",
       "    .dataframe tbody tr th:only-of-type {\n",
       "        vertical-align: middle;\n",
       "    }\n",
       "\n",
       "    .dataframe tbody tr th {\n",
       "        vertical-align: top;\n",
       "    }\n",
       "\n",
       "    .dataframe thead th {\n",
       "        text-align: right;\n",
       "    }\n",
       "</style>\n",
       "<table border=\"1\" class=\"dataframe\">\n",
       "  <thead>\n",
       "    <tr style=\"text-align: right;\">\n",
       "      <th></th>\n",
       "      <th>loan_id</th>\n",
       "      <th>birth_date</th>\n",
       "      <th>phone_number</th>\n",
       "      <th>gender</th>\n",
       "      <th>married</th>\n",
       "      <th>dependents</th>\n",
       "      <th>education</th>\n",
       "      <th>self_employed</th>\n",
       "      <th>applicant_income</th>\n",
       "      <th>coapplicant_income</th>\n",
       "      <th>loan_amount</th>\n",
       "      <th>loan_term_month</th>\n",
       "      <th>loan_term_year</th>\n",
       "      <th>credit_history</th>\n",
       "      <th>property_type</th>\n",
       "      <th>loan_status</th>\n",
       "    </tr>\n",
       "  </thead>\n",
       "  <tbody>\n",
       "    <tr>\n",
       "      <th>0</th>\n",
       "      <td>LP001002</td>\n",
       "      <td>1977-05-15</td>\n",
       "      <td>6.281142e+11</td>\n",
       "      <td>Male</td>\n",
       "      <td>No</td>\n",
       "      <td>0</td>\n",
       "      <td>Graduate</td>\n",
       "      <td>No</td>\n",
       "      <td>5849.0</td>\n",
       "      <td>0.0</td>\n",
       "      <td>100000</td>\n",
       "      <td>360</td>\n",
       "      <td>30</td>\n",
       "      <td>1.0</td>\n",
       "      <td>house</td>\n",
       "      <td>APPROVE</td>\n",
       "    </tr>\n",
       "    <tr>\n",
       "      <th>1</th>\n",
       "      <td>LP001003</td>\n",
       "      <td>1979-08-24</td>\n",
       "      <td>6.287764e+11</td>\n",
       "      <td>Male</td>\n",
       "      <td>Yes</td>\n",
       "      <td>1</td>\n",
       "      <td>Graduate</td>\n",
       "      <td>No</td>\n",
       "      <td>4583.0</td>\n",
       "      <td>1508.0</td>\n",
       "      <td>128000</td>\n",
       "      <td>360</td>\n",
       "      <td>30</td>\n",
       "      <td>1.0</td>\n",
       "      <td>studio</td>\n",
       "      <td>REJECT</td>\n",
       "    </tr>\n",
       "    <tr>\n",
       "      <th>2</th>\n",
       "      <td>LP001005</td>\n",
       "      <td>1991-03-28</td>\n",
       "      <td>6.281192e+11</td>\n",
       "      <td>Male</td>\n",
       "      <td>Yes</td>\n",
       "      <td>0</td>\n",
       "      <td>Graduate</td>\n",
       "      <td>Yes</td>\n",
       "      <td>3000.0</td>\n",
       "      <td>0.0</td>\n",
       "      <td>66000</td>\n",
       "      <td>360</td>\n",
       "      <td>30</td>\n",
       "      <td>1.0</td>\n",
       "      <td>house</td>\n",
       "      <td>APPROVE</td>\n",
       "    </tr>\n",
       "    <tr>\n",
       "      <th>3</th>\n",
       "      <td>LP001006</td>\n",
       "      <td>1980-06-02</td>\n",
       "      <td>6.285634e+10</td>\n",
       "      <td>Male</td>\n",
       "      <td>Yes</td>\n",
       "      <td>0</td>\n",
       "      <td>Not Graduate</td>\n",
       "      <td>No</td>\n",
       "      <td>2583.0</td>\n",
       "      <td>2358.0</td>\n",
       "      <td>120000</td>\n",
       "      <td>360</td>\n",
       "      <td>30</td>\n",
       "      <td>1.0</td>\n",
       "      <td>house</td>\n",
       "      <td>APPROVE</td>\n",
       "    </tr>\n",
       "    <tr>\n",
       "      <th>4</th>\n",
       "      <td>LP001008</td>\n",
       "      <td>1989-05-19</td>\n",
       "      <td>6.281130e+11</td>\n",
       "      <td>Male</td>\n",
       "      <td>No</td>\n",
       "      <td>0</td>\n",
       "      <td>Graduate</td>\n",
       "      <td>No</td>\n",
       "      <td>6000.0</td>\n",
       "      <td>0.0</td>\n",
       "      <td>141000</td>\n",
       "      <td>360</td>\n",
       "      <td>30</td>\n",
       "      <td>1.0</td>\n",
       "      <td>house</td>\n",
       "      <td>APPROVE</td>\n",
       "    </tr>\n",
       "    <tr>\n",
       "      <th>...</th>\n",
       "      <td>...</td>\n",
       "      <td>...</td>\n",
       "      <td>...</td>\n",
       "      <td>...</td>\n",
       "      <td>...</td>\n",
       "      <td>...</td>\n",
       "      <td>...</td>\n",
       "      <td>...</td>\n",
       "      <td>...</td>\n",
       "      <td>...</td>\n",
       "      <td>...</td>\n",
       "      <td>...</td>\n",
       "      <td>...</td>\n",
       "      <td>...</td>\n",
       "      <td>...</td>\n",
       "      <td>...</td>\n",
       "    </tr>\n",
       "    <tr>\n",
       "      <th>616</th>\n",
       "      <td>LP002978</td>\n",
       "      <td>1976-03-25</td>\n",
       "      <td>6.285650e+11</td>\n",
       "      <td>Female</td>\n",
       "      <td>No</td>\n",
       "      <td>0</td>\n",
       "      <td>Graduate</td>\n",
       "      <td>No</td>\n",
       "      <td>2900.0</td>\n",
       "      <td>0.0</td>\n",
       "      <td>71000</td>\n",
       "      <td>360</td>\n",
       "      <td>30</td>\n",
       "      <td>1.0</td>\n",
       "      <td>studio</td>\n",
       "      <td>APPROVE</td>\n",
       "    </tr>\n",
       "    <tr>\n",
       "      <th>617</th>\n",
       "      <td>LP002979</td>\n",
       "      <td>1987-01-26</td>\n",
       "      <td>6.281165e+11</td>\n",
       "      <td>Male</td>\n",
       "      <td>Yes</td>\n",
       "      <td>3+</td>\n",
       "      <td>Graduate</td>\n",
       "      <td>No</td>\n",
       "      <td>4106.0</td>\n",
       "      <td>0.0</td>\n",
       "      <td>40000</td>\n",
       "      <td>180</td>\n",
       "      <td>15</td>\n",
       "      <td>1.0</td>\n",
       "      <td>studio</td>\n",
       "      <td>APPROVE</td>\n",
       "    </tr>\n",
       "    <tr>\n",
       "      <th>618</th>\n",
       "      <td>LP002983</td>\n",
       "      <td>1982-03-08</td>\n",
       "      <td>6.281158e+11</td>\n",
       "      <td>Male</td>\n",
       "      <td>Yes</td>\n",
       "      <td>1</td>\n",
       "      <td>Graduate</td>\n",
       "      <td>No</td>\n",
       "      <td>8072.0</td>\n",
       "      <td>240.0</td>\n",
       "      <td>253000</td>\n",
       "      <td>360</td>\n",
       "      <td>30</td>\n",
       "      <td>1.0</td>\n",
       "      <td>house</td>\n",
       "      <td>APPROVE</td>\n",
       "    </tr>\n",
       "    <tr>\n",
       "      <th>619</th>\n",
       "      <td>LP002984</td>\n",
       "      <td>1986-12-05</td>\n",
       "      <td>6.281196e+11</td>\n",
       "      <td>Male</td>\n",
       "      <td>Yes</td>\n",
       "      <td>2</td>\n",
       "      <td>Graduate</td>\n",
       "      <td>No</td>\n",
       "      <td>7583.0</td>\n",
       "      <td>0.0</td>\n",
       "      <td>187000</td>\n",
       "      <td>360</td>\n",
       "      <td>30</td>\n",
       "      <td>1.0</td>\n",
       "      <td>house</td>\n",
       "      <td>APPROVE</td>\n",
       "    </tr>\n",
       "    <tr>\n",
       "      <th>620</th>\n",
       "      <td>LP002990</td>\n",
       "      <td>NaT</td>\n",
       "      <td>6.281396e+11</td>\n",
       "      <td>Female</td>\n",
       "      <td>No</td>\n",
       "      <td>0</td>\n",
       "      <td>Graduate</td>\n",
       "      <td>Yes</td>\n",
       "      <td>4583.0</td>\n",
       "      <td>0.0</td>\n",
       "      <td>133000</td>\n",
       "      <td>360</td>\n",
       "      <td>30</td>\n",
       "      <td>0.0</td>\n",
       "      <td>apartment</td>\n",
       "      <td>REJECT</td>\n",
       "    </tr>\n",
       "  </tbody>\n",
       "</table>\n",
       "<p>621 rows × 16 columns</p>\n",
       "</div>"
      ],
      "text/plain": [
       "      loan_id birth_date  phone_number  gender married dependents  \\\n",
       "0    LP001002 1977-05-15  6.281142e+11    Male      No          0   \n",
       "1    LP001003 1979-08-24  6.287764e+11    Male     Yes          1   \n",
       "2    LP001005 1991-03-28  6.281192e+11    Male     Yes          0   \n",
       "3    LP001006 1980-06-02  6.285634e+10    Male     Yes          0   \n",
       "4    LP001008 1989-05-19  6.281130e+11    Male      No          0   \n",
       "..        ...        ...           ...     ...     ...        ...   \n",
       "616  LP002978 1976-03-25  6.285650e+11  Female      No          0   \n",
       "617  LP002979 1987-01-26  6.281165e+11    Male     Yes         3+   \n",
       "618  LP002983 1982-03-08  6.281158e+11    Male     Yes          1   \n",
       "619  LP002984 1986-12-05  6.281196e+11    Male     Yes          2   \n",
       "620  LP002990        NaT  6.281396e+11  Female      No          0   \n",
       "\n",
       "        education self_employed  applicant_income  coapplicant_income  \\\n",
       "0        Graduate            No            5849.0                 0.0   \n",
       "1        Graduate            No            4583.0              1508.0   \n",
       "2        Graduate           Yes            3000.0                 0.0   \n",
       "3    Not Graduate            No            2583.0              2358.0   \n",
       "4        Graduate            No            6000.0                 0.0   \n",
       "..            ...           ...               ...                 ...   \n",
       "616      Graduate            No            2900.0                 0.0   \n",
       "617      Graduate            No            4106.0                 0.0   \n",
       "618      Graduate            No            8072.0               240.0   \n",
       "619      Graduate            No            7583.0                 0.0   \n",
       "620      Graduate           Yes            4583.0                 0.0   \n",
       "\n",
       "     loan_amount  loan_term_month  loan_term_year  credit_history  \\\n",
       "0         100000              360              30             1.0   \n",
       "1         128000              360              30             1.0   \n",
       "2          66000              360              30             1.0   \n",
       "3         120000              360              30             1.0   \n",
       "4         141000              360              30             1.0   \n",
       "..           ...              ...             ...             ...   \n",
       "616        71000              360              30             1.0   \n",
       "617        40000              180              15             1.0   \n",
       "618       253000              360              30             1.0   \n",
       "619       187000              360              30             1.0   \n",
       "620       133000              360              30             0.0   \n",
       "\n",
       "    property_type loan_status  \n",
       "0           house     APPROVE  \n",
       "1          studio      REJECT  \n",
       "2           house     APPROVE  \n",
       "3           house     APPROVE  \n",
       "4           house     APPROVE  \n",
       "..            ...         ...  \n",
       "616        studio     APPROVE  \n",
       "617        studio     APPROVE  \n",
       "618         house     APPROVE  \n",
       "619         house     APPROVE  \n",
       "620     apartment      REJECT  \n",
       "\n",
       "[621 rows x 16 columns]"
      ]
     },
     "execution_count": 9,
     "metadata": {},
     "output_type": "execute_result"
    }
   ],
   "source": [
    "df"
   ]
  },
  {
   "cell_type": "code",
   "execution_count": 10,
   "id": "debc0abe",
   "metadata": {},
   "outputs": [],
   "source": [
    "# drop baris dengan missing values\n",
    "df = df.dropna()"
   ]
  },
  {
   "cell_type": "code",
   "execution_count": 11,
   "id": "bbee05ae",
   "metadata": {},
   "outputs": [
    {
     "data": {
      "text/plain": [
       "(434, 16)"
      ]
     },
     "execution_count": 11,
     "metadata": {},
     "output_type": "execute_result"
    }
   ],
   "source": [
    "df.shape"
   ]
  },
  {
   "cell_type": "markdown",
   "id": "ec0e9773",
   "metadata": {},
   "source": [
    "- Setelah dilakukan penghapusan data yang kosong, kini data dari 621 menjadi 434 baris\n",
    "- Supaya lebih meyakinkan mari kita check lagi datanya, apakah masih ada yang kosong?"
   ]
  },
  {
   "cell_type": "code",
   "execution_count": 12,
   "id": "1c62ac83",
   "metadata": {},
   "outputs": [
    {
     "data": {
      "text/plain": [
       "loan_id               0\n",
       "birth_date            0\n",
       "phone_number          0\n",
       "gender                0\n",
       "married               0\n",
       "dependents            0\n",
       "education             0\n",
       "self_employed         0\n",
       "applicant_income      0\n",
       "coapplicant_income    0\n",
       "loan_amount           0\n",
       "loan_term_month       0\n",
       "loan_term_year        0\n",
       "credit_history        0\n",
       "property_type         0\n",
       "loan_status           0\n",
       "dtype: int64"
      ]
     },
     "execution_count": 12,
     "metadata": {},
     "output_type": "execute_result"
    }
   ],
   "source": [
    "df.isna().sum()"
   ]
  },
  {
   "cell_type": "code",
   "execution_count": 13,
   "id": "b64f75e1",
   "metadata": {},
   "outputs": [
    {
     "data": {
      "text/plain": [
       "loan_id               0\n",
       "birth_date            0\n",
       "phone_number          0\n",
       "gender                0\n",
       "married               0\n",
       "dependents            0\n",
       "education             0\n",
       "self_employed         0\n",
       "applicant_income      0\n",
       "coapplicant_income    0\n",
       "loan_amount           0\n",
       "loan_term_month       0\n",
       "loan_term_year        0\n",
       "credit_history        0\n",
       "property_type         0\n",
       "loan_status           0\n",
       "dtype: int64"
      ]
     },
     "execution_count": 13,
     "metadata": {},
     "output_type": "execute_result"
    }
   ],
   "source": [
    "df.isnull().sum()"
   ]
  },
  {
   "cell_type": "markdown",
   "id": "b5d8ec4c",
   "metadata": {},
   "source": [
    "Selamat data kamu sudah tidak ada yg null (kosong) lagi :)"
   ]
  },
  {
   "cell_type": "markdown",
   "id": "dc573792",
   "metadata": {},
   "source": [
    "## Handling Duplicated Data "
   ]
  },
  {
   "cell_type": "code",
   "execution_count": 14,
   "id": "adeb3b9d",
   "metadata": {},
   "outputs": [
    {
     "data": {
      "text/plain": [
       "5"
      ]
     },
     "execution_count": 14,
     "metadata": {},
     "output_type": "execute_result"
    }
   ],
   "source": [
    "# cek jumlah duplicated rows \n",
    "# dari semua kolom \n",
    "df.duplicated().sum()"
   ]
  },
  {
   "cell_type": "markdown",
   "id": "f2493a43",
   "metadata": {},
   "source": [
    "Dari info diatas diketahui terdapat 5 data duplicated "
   ]
  },
  {
   "cell_type": "markdown",
   "id": "3bdc9020",
   "metadata": {},
   "source": [
    "Selanjutnya kita hapus data yang duplicated "
   ]
  },
  {
   "cell_type": "code",
   "execution_count": 15,
   "id": "7524b1a1",
   "metadata": {},
   "outputs": [
    {
     "name": "stdout",
     "output_type": "stream",
     "text": [
      "jumlah data duplikat\n",
      "5\n",
      "Jumlah data setelah duplikat di hapus\n",
      "0\n"
     ]
    },
    {
     "name": "stderr",
     "output_type": "stream",
     "text": [
      "C:\\Users\\ASUS\\AppData\\Local\\Temp\\ipykernel_3792\\2714981230.py:4: SettingWithCopyWarning: \n",
      "A value is trying to be set on a copy of a slice from a DataFrame\n",
      "\n",
      "See the caveats in the documentation: https://pandas.pydata.org/pandas-docs/stable/user_guide/indexing.html#returning-a-view-versus-a-copy\n",
      "  df.drop_duplicates(inplace=True)\n"
     ]
    }
   ],
   "source": [
    "print ('jumlah data duplikat')\n",
    "print (df.duplicated().sum())\n",
    "print ('Jumlah data setelah duplikat di hapus')\n",
    "df.drop_duplicates(inplace=True)\n",
    "print (df.duplicated().sum())"
   ]
  },
  {
   "cell_type": "markdown",
   "id": "d7e4b812",
   "metadata": {},
   "source": [
    "Selamat tidak ada data yang duplikat lagi "
   ]
  },
  {
   "cell_type": "markdown",
   "id": "a2c06439",
   "metadata": {},
   "source": [
    "## Outliers Handlings "
   ]
  },
  {
   "cell_type": "markdown",
   "id": "ede1684b",
   "metadata": {},
   "source": [
    "Lakukan Outliers Handlings pada tipe data numerik "
   ]
  },
  {
   "cell_type": "code",
   "execution_count": 16,
   "id": "dbbb8dc4",
   "metadata": {},
   "outputs": [
    {
     "name": "stdout",
     "output_type": "stream",
     "text": [
      "<class 'pandas.core.frame.DataFrame'>\n",
      "Int64Index: 429 entries, 0 to 619\n",
      "Data columns (total 16 columns):\n",
      " #   Column              Non-Null Count  Dtype         \n",
      "---  ------              --------------  -----         \n",
      " 0   loan_id             429 non-null    object        \n",
      " 1   birth_date          429 non-null    datetime64[ns]\n",
      " 2   phone_number        429 non-null    float64       \n",
      " 3   gender              429 non-null    object        \n",
      " 4   married             429 non-null    object        \n",
      " 5   dependents          429 non-null    object        \n",
      " 6   education           429 non-null    object        \n",
      " 7   self_employed       429 non-null    object        \n",
      " 8   applicant_income    429 non-null    float64       \n",
      " 9   coapplicant_income  429 non-null    float64       \n",
      " 10  loan_amount         429 non-null    int64         \n",
      " 11  loan_term_month     429 non-null    int64         \n",
      " 12  loan_term_year      429 non-null    int64         \n",
      " 13  credit_history      429 non-null    float64       \n",
      " 14  property_type       429 non-null    object        \n",
      " 15  loan_status         429 non-null    object        \n",
      "dtypes: datetime64[ns](1), float64(4), int64(3), object(8)\n",
      "memory usage: 57.0+ KB\n"
     ]
    }
   ],
   "source": [
    "df.info()"
   ]
  },
  {
   "cell_type": "markdown",
   "id": "8fb98ed7",
   "metadata": {},
   "source": [
    "### applicant_income"
   ]
  },
  {
   "cell_type": "markdown",
   "id": "e72fbe01",
   "metadata": {},
   "source": [
    "Untuk mengecek apakah ada outlier yang sangat mempengaruhi data maka kita bisa melihatnya dengan menggunakan boxplot seperti di bawah ini. Data tersebut terlihat tidak normal dikarenakan adanya outlier."
   ]
  },
  {
   "cell_type": "code",
   "execution_count": 17,
   "id": "54f15a55",
   "metadata": {},
   "outputs": [
    {
     "data": {
      "text/plain": [
       "<AxesSubplot:xlabel='applicant_income'>"
      ]
     },
     "execution_count": 17,
     "metadata": {},
     "output_type": "execute_result"
    },
    {
     "data": {
      "image/png": "[encoded data removed]",
      "text/plain": [
       "<Figure size 432x288 with 1 Axes>"
      ]
     },
     "metadata": {
      "needs_background": "light"
     },
     "output_type": "display_data"
    }
   ],
   "source": [
    "sns.boxplot(x='applicant_income', data=df)"
   ]
  },
  {
   "cell_type": "code",
   "execution_count": 18,
   "id": "e9a82419",
   "metadata": {},
   "outputs": [
    {
     "name": "stdout",
     "output_type": "stream",
     "text": [
      "Jumlah baris sebelum memfilter outlier: 429\n",
      "Jumlah baris setelah memfilter outlier: 397\n"
     ]
    }
   ],
   "source": [
    "print (f'Jumlah baris sebelum memfilter outlier:', len(df))\n",
    "\n",
    "Q1 = df['applicant_income'].quantile(0.25)\n",
    "Q3 = df['applicant_income'].quantile(0.75)\n",
    "\n",
    "IQR = Q3-Q1\n",
    "\n",
    "low_limit = Q1 - 1.5*IQR\n",
    "high_limit = Q3 + 1.5*IQR\n",
    "\n",
    "df = df[(df[\"applicant_income\"] >= low_limit) &\n",
    "        (df[\"applicant_income\"] <= high_limit)\n",
    "        ]\n",
    "\n",
    "print(f'Jumlah baris setelah memfilter outlier: {len(df)}')"
   ]
  },
  {
   "cell_type": "markdown",
   "id": "e4869440",
   "metadata": {},
   "source": [
    "Setelah data difilter dari outlier, maka persebaran data menjadi lebih merata seperti di bawah ini"
   ]
  },
  {
   "cell_type": "code",
   "execution_count": 19,
   "id": "e73a536f",
   "metadata": {},
   "outputs": [
    {
     "data": {
      "text/plain": [
       "<AxesSubplot:xlabel='applicant_income'>"
      ]
     },
     "execution_count": 19,
     "metadata": {},
     "output_type": "execute_result"
    },
    {
     "data": {
      "image/png": "[encoded data removed]",
      "text/plain": [
       "<Figure size 432x288 with 1 Axes>"
      ]
     },
     "metadata": {
      "needs_background": "light"
     },
     "output_type": "display_data"
    }
   ],
   "source": [
    "sns.boxplot(x='applicant_income', data=df)"
   ]
  },
  {
   "cell_type": "markdown",
   "id": "9ce6c22f",
   "metadata": {},
   "source": [
    "### coapplicant_income"
   ]
  },
  {
   "cell_type": "markdown",
   "id": "e5275d00",
   "metadata": {},
   "source": [
    "Untuk mengecek apakah ada outlier yang sangat mempengaruhi data maka kita bisa melihatnya dengan menggunakan boxplot seperti di bawah ini. Data tersebut terlihat tidak normal dikarenakan adanya outlier."
   ]
  },
  {
   "cell_type": "code",
   "execution_count": 20,
   "id": "2d395fd8",
   "metadata": {},
   "outputs": [
    {
     "data": {
      "text/plain": [
       "<AxesSubplot:xlabel='coapplicant_income'>"
      ]
     },
     "execution_count": 20,
     "metadata": {},
     "output_type": "execute_result"
    },
    {
     "data": {
      "image/png": "[encoded data removed]",
      "text/plain": [
       "<Figure size 432x288 with 1 Axes>"
      ]
     },
     "metadata": {
      "needs_background": "light"
     },
     "output_type": "display_data"
    }
   ],
   "source": [
    "sns.boxplot(x='coapplicant_income', data=df)"
   ]
  },
  {
   "cell_type": "code",
   "execution_count": 21,
   "id": "3fdd7430",
   "metadata": {},
   "outputs": [
    {
     "name": "stdout",
     "output_type": "stream",
     "text": [
      "Jumlah baris sebelum memfilter outlier: 397\n",
      "Jumlah baris setelah memfilter outlier: 386\n"
     ]
    }
   ],
   "source": [
    "print (f'Jumlah baris sebelum memfilter outlier:', len(df))\n",
    "\n",
    "Q1 = df['coapplicant_income'].quantile(0.25)\n",
    "Q3 = df['coapplicant_income'].quantile(0.75)\n",
    "\n",
    "IQR = Q3-Q1\n",
    "\n",
    "low_limit = Q1 - 1.5*IQR\n",
    "high_limit = Q3 + 1.5*IQR\n",
    "\n",
    "df = df[(df[\"coapplicant_income\"] >= low_limit) &\n",
    "        (df[\"coapplicant_income\"] <= high_limit)\n",
    "        ]\n",
    "\n",
    "print(f'Jumlah baris setelah memfilter outlier: {len(df)}')"
   ]
  },
  {
   "cell_type": "code",
   "execution_count": 22,
   "id": "cf0bebe4",
   "metadata": {},
   "outputs": [
    {
     "data": {
      "text/plain": [
       "<AxesSubplot:xlabel='coapplicant_income'>"
      ]
     },
     "execution_count": 22,
     "metadata": {},
     "output_type": "execute_result"
    },
    {
     "data": {
      "image/png": "[encoded data removed]",
      "text/plain": [
       "<Figure size 432x288 with 1 Axes>"
      ]
     },
     "metadata": {
      "needs_background": "light"
     },
     "output_type": "display_data"
    }
   ],
   "source": [
    "sns.boxplot(x='coapplicant_income', data = df)"
   ]
  },
  {
   "cell_type": "markdown",
   "id": "340f45f7",
   "metadata": {},
   "source": [
    "### loan_amount"
   ]
  },
  {
   "cell_type": "code",
   "execution_count": 23,
   "id": "7cdcda99",
   "metadata": {},
   "outputs": [
    {
     "data": {
      "text/plain": [
       "<AxesSubplot:xlabel='loan_amount'>"
      ]
     },
     "execution_count": 23,
     "metadata": {},
     "output_type": "execute_result"
    },
    {
     "data": {
      "image/png": "[encoded data removed]",
      "text/plain": [
       "<Figure size 432x288 with 1 Axes>"
      ]
     },
     "metadata": {
      "needs_background": "light"
     },
     "output_type": "display_data"
    }
   ],
   "source": [
    "sns.boxplot(x='loan_amount', data=df)"
   ]
  },
  {
   "cell_type": "code",
   "execution_count": 24,
   "id": "dd13e8e5",
   "metadata": {},
   "outputs": [
    {
     "name": "stdout",
     "output_type": "stream",
     "text": [
      "Jumlah baris sebelum memfilter outlier: 386\n",
      "Jumlah baris setelah memfilter outlier: 366\n"
     ]
    }
   ],
   "source": [
    "print ('Jumlah baris sebelum memfilter outlier:', len(df))\n",
    "\n",
    "Q1 = df['loan_amount'].quantile(0.25)\n",
    "Q3 = df['loan_amount'].quantile(0.75)\n",
    "\n",
    "IQR = Q3-Q1\n",
    "\n",
    "low_limit = Q1 - 1.5*IQR\n",
    "high_limit = Q3 + 1.5*IQR\n",
    "\n",
    "df = df[(df[\"loan_amount\"] >= low_limit) &\n",
    "        (df[\"loan_amount\"] <= high_limit)]\n",
    "\n",
    "print(f'Jumlah baris setelah memfilter outlier: {len(df)}')"
   ]
  },
  {
   "cell_type": "code",
   "execution_count": 25,
   "id": "ed79aa32",
   "metadata": {},
   "outputs": [
    {
     "data": {
      "text/plain": [
       "<AxesSubplot:xlabel='loan_amount'>"
      ]
     },
     "execution_count": 25,
     "metadata": {},
     "output_type": "execute_result"
    },
    {
     "data": {
      "image/png": "[encoded data removed]",
      "text/plain": [
       "<Figure size 432x288 with 1 Axes>"
      ]
     },
     "metadata": {
      "needs_background": "light"
     },
     "output_type": "display_data"
    }
   ],
   "source": [
    "sns.boxplot(x='loan_amount', data=df)"
   ]
  },
  {
   "cell_type": "markdown",
   "id": "05286eb2",
   "metadata": {},
   "source": [
    "### loan_term_month"
   ]
  },
  {
   "cell_type": "code",
   "execution_count": 26,
   "id": "e68622fd",
   "metadata": {},
   "outputs": [
    {
     "data": {
      "text/plain": [
       "<AxesSubplot:xlabel='loan_term_month'>"
      ]
     },
     "execution_count": 26,
     "metadata": {},
     "output_type": "execute_result"
    },
    {
     "data": {
      "image/png": "[encoded data removed]",
      "text/plain": [
       "<Figure size 432x288 with 1 Axes>"
      ]
     },
     "metadata": {
      "needs_background": "light"
     },
     "output_type": "display_data"
    }
   ],
   "source": [
    "sns.boxplot(x='loan_term_month', data=df)"
   ]
  },
  {
   "cell_type": "markdown",
   "id": "0840da5f",
   "metadata": {},
   "source": [
    "### loan_term_year"
   ]
  },
  {
   "cell_type": "code",
   "execution_count": 27,
   "id": "c44cfad8",
   "metadata": {},
   "outputs": [
    {
     "data": {
      "text/plain": [
       "<AxesSubplot:xlabel='loan_term_year'>"
      ]
     },
     "execution_count": 27,
     "metadata": {},
     "output_type": "execute_result"
    },
    {
     "data": {
      "image/png": "[encoded data removed]",
      "text/plain": [
       "<Figure size 432x288 with 1 Axes>"
      ]
     },
     "metadata": {
      "needs_background": "light"
     },
     "output_type": "display_data"
    }
   ],
   "source": [
    "sns.boxplot(x='loan_term_year', data=df)"
   ]
  },
  {
   "cell_type": "markdown",
   "id": "e8a1e3c8",
   "metadata": {},
   "source": [
    "### credit_history"
   ]
  },
  {
   "cell_type": "code",
   "execution_count": 28,
   "id": "d394485f",
   "metadata": {},
   "outputs": [
    {
     "data": {
      "text/plain": [
       "<AxesSubplot:xlabel='credit_history'>"
      ]
     },
     "execution_count": 28,
     "metadata": {},
     "output_type": "execute_result"
    },
    {
     "data": {
      "image/png": "[encoded data removed]",
      "text/plain": [
       "<Figure size 432x288 with 1 Axes>"
      ]
     },
     "metadata": {
      "needs_background": "light"
     },
     "output_type": "display_data"
    }
   ],
   "source": [
    "sns.boxplot(x='credit_history', data=df)"
   ]
  },
  {
   "cell_type": "markdown",
   "id": "14487264",
   "metadata": {},
   "source": [
    "#### boxplot dari ketiga kolom loan_term_month , loan_term_year dan credit_history tidak perlu dilalukakn outliners handlings(memfilter)"
   ]
  },
  {
   "cell_type": "markdown",
   "id": "b5709cef",
   "metadata": {},
   "source": [
    "## Feature Encoding"
   ]
  },
  {
   "cell_type": "code",
   "execution_count": 29,
   "id": "ee18f16d",
   "metadata": {},
   "outputs": [
    {
     "name": "stdout",
     "output_type": "stream",
     "text": [
      "<class 'pandas.core.frame.DataFrame'>\n",
      "Int64Index: 366 entries, 0 to 619\n",
      "Data columns (total 16 columns):\n",
      " #   Column              Non-Null Count  Dtype         \n",
      "---  ------              --------------  -----         \n",
      " 0   loan_id             366 non-null    object        \n",
      " 1   birth_date          366 non-null    datetime64[ns]\n",
      " 2   phone_number        366 non-null    float64       \n",
      " 3   gender              366 non-null    object        \n",
      " 4   married             366 non-null    object        \n",
      " 5   dependents          366 non-null    object        \n",
      " 6   education           366 non-null    object        \n",
      " 7   self_employed       366 non-null    object        \n",
      " 8   applicant_income    366 non-null    float64       \n",
      " 9   coapplicant_income  366 non-null    float64       \n",
      " 10  loan_amount         366 non-null    int64         \n",
      " 11  loan_term_month     366 non-null    int64         \n",
      " 12  loan_term_year      366 non-null    int64         \n",
      " 13  credit_history      366 non-null    float64       \n",
      " 14  property_type       366 non-null    object        \n",
      " 15  loan_status         366 non-null    object        \n",
      "dtypes: datetime64[ns](1), float64(4), int64(3), object(8)\n",
      "memory usage: 48.6+ KB\n"
     ]
    }
   ],
   "source": [
    "df.info()"
   ]
  },
  {
   "cell_type": "code",
   "execution_count": 30,
   "id": "47fede43",
   "metadata": {},
   "outputs": [
    {
     "name": "stdout",
     "output_type": "stream",
     "text": [
      "Kolom gender ['Male' 'Female']\n",
      "Kolom married ['No' 'Yes']\n",
      "Kolom dependents ['0' '1' '3+' '2']\n",
      "Kolom education ['Graduate' 'Not Graduate']\n",
      "Kolom self_employed ['No' 'Yes']\n",
      "Kolom property_type ['house' 'studio' 'apartment']\n",
      "Kolom loan_status ['APPROVE' 'REJECT']\n"
     ]
    }
   ],
   "source": [
    "df1 = df.copy()\n",
    "\n",
    "# membuat daftar nama kolom yang bertipe kategorikal \n",
    "cats = ['gender','married','dependents','education','self_employed','property_type','loan_status']\n",
    "\n",
    "#melihat kategori dari setiap kolom\n",
    "for i in cats:\n",
    "    print('Kolom', i, df1[i].unique())"
   ]
  },
  {
   "cell_type": "code",
   "execution_count": 31,
   "id": "6a96429c",
   "metadata": {},
   "outputs": [
    {
     "name": "stdout",
     "output_type": "stream",
     "text": [
      "value counts of column gender\n",
      "Male      299\n",
      "Female     67\n",
      "Name: gender, dtype: int64\n",
      "------------------------------ \n",
      "\n",
      "value counts of column married\n",
      "Yes    230\n",
      "No     136\n",
      "Name: married, dtype: int64\n",
      "------------------------------ \n",
      "\n",
      "value counts of column dependents\n",
      "0     219\n",
      "2      61\n",
      "1      60\n",
      "3+     26\n",
      "Name: dependents, dtype: int64\n",
      "------------------------------ \n",
      "\n",
      "value counts of column education\n",
      "Graduate        273\n",
      "Not Graduate     93\n",
      "Name: education, dtype: int64\n",
      "------------------------------ \n",
      "\n",
      "value counts of column self_employed\n",
      "No     327\n",
      "Yes     39\n",
      "Name: self_employed, dtype: int64\n",
      "------------------------------ \n",
      "\n",
      "value counts of column property_type\n",
      "apartment    148\n",
      "house        114\n",
      "studio       104\n",
      "Name: property_type, dtype: int64\n",
      "------------------------------ \n",
      "\n",
      "value counts of column loan_status\n",
      "APPROVE    255\n",
      "REJECT     111\n",
      "Name: loan_status, dtype: int64\n",
      "------------------------------ \n",
      "\n"
     ]
    }
   ],
   "source": [
    "# pengecekan nilai/entri dari kolom-kolom kategorikal\n",
    "\n",
    "for col in cats:\n",
    "    print(f'value counts of column {col}')\n",
    "    print(df[col].value_counts())\n",
    "    print('---'*10,'\\n')"
   ]
  },
  {
   "cell_type": "markdown",
   "id": "94418fa1",
   "metadata": {},
   "source": [
    "Strategi encoding\n",
    "\n",
    "1. gender, married, dependents, education, self_employed, has_credit_card,property_type dan loan_status : label encoding\n"
   ]
  },
  {
   "cell_type": "markdown",
   "id": "66ae946a",
   "metadata": {},
   "source": [
    "#### Membuat label encoding untuk setiap kategori"
   ]
  },
  {
   "cell_type": "code",
   "execution_count": 32,
   "id": "fb8b8de0",
   "metadata": {},
   "outputs": [
    {
     "data": {
      "text/html": [
       "<div>\n",
       "<style scoped>\n",
       "    .dataframe tbody tr th:only-of-type {\n",
       "        vertical-align: middle;\n",
       "    }\n",
       "\n",
       "    .dataframe tbody tr th {\n",
       "        vertical-align: top;\n",
       "    }\n",
       "\n",
       "    .dataframe thead th {\n",
       "        text-align: right;\n",
       "    }\n",
       "</style>\n",
       "<table border=\"1\" class=\"dataframe\">\n",
       "  <thead>\n",
       "    <tr style=\"text-align: right;\">\n",
       "      <th></th>\n",
       "      <th>loan_id</th>\n",
       "      <th>birth_date</th>\n",
       "      <th>phone_number</th>\n",
       "      <th>gender</th>\n",
       "      <th>married</th>\n",
       "      <th>dependents</th>\n",
       "      <th>education</th>\n",
       "      <th>self_employed</th>\n",
       "      <th>applicant_income</th>\n",
       "      <th>coapplicant_income</th>\n",
       "      <th>loan_amount</th>\n",
       "      <th>loan_term_month</th>\n",
       "      <th>loan_term_year</th>\n",
       "      <th>credit_history</th>\n",
       "      <th>property_type</th>\n",
       "      <th>loan_status</th>\n",
       "    </tr>\n",
       "  </thead>\n",
       "  <tbody>\n",
       "    <tr>\n",
       "      <th>0</th>\n",
       "      <td>LP001002</td>\n",
       "      <td>1977-05-15</td>\n",
       "      <td>6.281142e+11</td>\n",
       "      <td>Male</td>\n",
       "      <td>No</td>\n",
       "      <td>0</td>\n",
       "      <td>Graduate</td>\n",
       "      <td>No</td>\n",
       "      <td>5849.0</td>\n",
       "      <td>0.0</td>\n",
       "      <td>100000</td>\n",
       "      <td>360</td>\n",
       "      <td>30</td>\n",
       "      <td>1.0</td>\n",
       "      <td>house</td>\n",
       "      <td>APPROVE</td>\n",
       "    </tr>\n",
       "    <tr>\n",
       "      <th>1</th>\n",
       "      <td>LP001003</td>\n",
       "      <td>1979-08-24</td>\n",
       "      <td>6.287764e+11</td>\n",
       "      <td>Male</td>\n",
       "      <td>Yes</td>\n",
       "      <td>1</td>\n",
       "      <td>Graduate</td>\n",
       "      <td>No</td>\n",
       "      <td>4583.0</td>\n",
       "      <td>1508.0</td>\n",
       "      <td>128000</td>\n",
       "      <td>360</td>\n",
       "      <td>30</td>\n",
       "      <td>1.0</td>\n",
       "      <td>studio</td>\n",
       "      <td>REJECT</td>\n",
       "    </tr>\n",
       "    <tr>\n",
       "      <th>2</th>\n",
       "      <td>LP001005</td>\n",
       "      <td>1991-03-28</td>\n",
       "      <td>6.281192e+11</td>\n",
       "      <td>Male</td>\n",
       "      <td>Yes</td>\n",
       "      <td>0</td>\n",
       "      <td>Graduate</td>\n",
       "      <td>Yes</td>\n",
       "      <td>3000.0</td>\n",
       "      <td>0.0</td>\n",
       "      <td>66000</td>\n",
       "      <td>360</td>\n",
       "      <td>30</td>\n",
       "      <td>1.0</td>\n",
       "      <td>house</td>\n",
       "      <td>APPROVE</td>\n",
       "    </tr>\n",
       "    <tr>\n",
       "      <th>3</th>\n",
       "      <td>LP001006</td>\n",
       "      <td>1980-06-02</td>\n",
       "      <td>6.285634e+10</td>\n",
       "      <td>Male</td>\n",
       "      <td>Yes</td>\n",
       "      <td>0</td>\n",
       "      <td>Not Graduate</td>\n",
       "      <td>No</td>\n",
       "      <td>2583.0</td>\n",
       "      <td>2358.0</td>\n",
       "      <td>120000</td>\n",
       "      <td>360</td>\n",
       "      <td>30</td>\n",
       "      <td>1.0</td>\n",
       "      <td>house</td>\n",
       "      <td>APPROVE</td>\n",
       "    </tr>\n",
       "    <tr>\n",
       "      <th>4</th>\n",
       "      <td>LP001008</td>\n",
       "      <td>1989-05-19</td>\n",
       "      <td>6.281130e+11</td>\n",
       "      <td>Male</td>\n",
       "      <td>No</td>\n",
       "      <td>0</td>\n",
       "      <td>Graduate</td>\n",
       "      <td>No</td>\n",
       "      <td>6000.0</td>\n",
       "      <td>0.0</td>\n",
       "      <td>141000</td>\n",
       "      <td>360</td>\n",
       "      <td>30</td>\n",
       "      <td>1.0</td>\n",
       "      <td>house</td>\n",
       "      <td>APPROVE</td>\n",
       "    </tr>\n",
       "    <tr>\n",
       "      <th>...</th>\n",
       "      <td>...</td>\n",
       "      <td>...</td>\n",
       "      <td>...</td>\n",
       "      <td>...</td>\n",
       "      <td>...</td>\n",
       "      <td>...</td>\n",
       "      <td>...</td>\n",
       "      <td>...</td>\n",
       "      <td>...</td>\n",
       "      <td>...</td>\n",
       "      <td>...</td>\n",
       "      <td>...</td>\n",
       "      <td>...</td>\n",
       "      <td>...</td>\n",
       "      <td>...</td>\n",
       "      <td>...</td>\n",
       "    </tr>\n",
       "    <tr>\n",
       "      <th>614</th>\n",
       "      <td>LP002964</td>\n",
       "      <td>1984-02-27</td>\n",
       "      <td>6.281191e+11</td>\n",
       "      <td>Male</td>\n",
       "      <td>Yes</td>\n",
       "      <td>2</td>\n",
       "      <td>Not Graduate</td>\n",
       "      <td>No</td>\n",
       "      <td>3987.0</td>\n",
       "      <td>1411.0</td>\n",
       "      <td>157000</td>\n",
       "      <td>360</td>\n",
       "      <td>30</td>\n",
       "      <td>1.0</td>\n",
       "      <td>studio</td>\n",
       "      <td>APPROVE</td>\n",
       "    </tr>\n",
       "    <tr>\n",
       "      <th>615</th>\n",
       "      <td>LP002974</td>\n",
       "      <td>1988-03-24</td>\n",
       "      <td>6.285739e+11</td>\n",
       "      <td>Male</td>\n",
       "      <td>Yes</td>\n",
       "      <td>0</td>\n",
       "      <td>Graduate</td>\n",
       "      <td>No</td>\n",
       "      <td>3232.0</td>\n",
       "      <td>1950.0</td>\n",
       "      <td>108000</td>\n",
       "      <td>360</td>\n",
       "      <td>30</td>\n",
       "      <td>1.0</td>\n",
       "      <td>studio</td>\n",
       "      <td>APPROVE</td>\n",
       "    </tr>\n",
       "    <tr>\n",
       "      <th>616</th>\n",
       "      <td>LP002978</td>\n",
       "      <td>1976-03-25</td>\n",
       "      <td>6.285650e+11</td>\n",
       "      <td>Female</td>\n",
       "      <td>No</td>\n",
       "      <td>0</td>\n",
       "      <td>Graduate</td>\n",
       "      <td>No</td>\n",
       "      <td>2900.0</td>\n",
       "      <td>0.0</td>\n",
       "      <td>71000</td>\n",
       "      <td>360</td>\n",
       "      <td>30</td>\n",
       "      <td>1.0</td>\n",
       "      <td>studio</td>\n",
       "      <td>APPROVE</td>\n",
       "    </tr>\n",
       "    <tr>\n",
       "      <th>617</th>\n",
       "      <td>LP002979</td>\n",
       "      <td>1987-01-26</td>\n",
       "      <td>6.281165e+11</td>\n",
       "      <td>Male</td>\n",
       "      <td>Yes</td>\n",
       "      <td>3+</td>\n",
       "      <td>Graduate</td>\n",
       "      <td>No</td>\n",
       "      <td>4106.0</td>\n",
       "      <td>0.0</td>\n",
       "      <td>40000</td>\n",
       "      <td>180</td>\n",
       "      <td>15</td>\n",
       "      <td>1.0</td>\n",
       "      <td>studio</td>\n",
       "      <td>APPROVE</td>\n",
       "    </tr>\n",
       "    <tr>\n",
       "      <th>619</th>\n",
       "      <td>LP002984</td>\n",
       "      <td>1986-12-05</td>\n",
       "      <td>6.281196e+11</td>\n",
       "      <td>Male</td>\n",
       "      <td>Yes</td>\n",
       "      <td>2</td>\n",
       "      <td>Graduate</td>\n",
       "      <td>No</td>\n",
       "      <td>7583.0</td>\n",
       "      <td>0.0</td>\n",
       "      <td>187000</td>\n",
       "      <td>360</td>\n",
       "      <td>30</td>\n",
       "      <td>1.0</td>\n",
       "      <td>house</td>\n",
       "      <td>APPROVE</td>\n",
       "    </tr>\n",
       "  </tbody>\n",
       "</table>\n",
       "<p>366 rows × 16 columns</p>\n",
       "</div>"
      ],
      "text/plain": [
       "      loan_id birth_date  phone_number  gender married dependents  \\\n",
       "0    LP001002 1977-05-15  6.281142e+11    Male      No          0   \n",
       "1    LP001003 1979-08-24  6.287764e+11    Male     Yes          1   \n",
       "2    LP001005 1991-03-28  6.281192e+11    Male     Yes          0   \n",
       "3    LP001006 1980-06-02  6.285634e+10    Male     Yes          0   \n",
       "4    LP001008 1989-05-19  6.281130e+11    Male      No          0   \n",
       "..        ...        ...           ...     ...     ...        ...   \n",
       "614  LP002964 1984-02-27  6.281191e+11    Male     Yes          2   \n",
       "615  LP002974 1988-03-24  6.285739e+11    Male     Yes          0   \n",
       "616  LP002978 1976-03-25  6.285650e+11  Female      No          0   \n",
       "617  LP002979 1987-01-26  6.281165e+11    Male     Yes         3+   \n",
       "619  LP002984 1986-12-05  6.281196e+11    Male     Yes          2   \n",
       "\n",
       "        education self_employed  applicant_income  coapplicant_income  \\\n",
       "0        Graduate            No            5849.0                 0.0   \n",
       "1        Graduate            No            4583.0              1508.0   \n",
       "2        Graduate           Yes            3000.0                 0.0   \n",
       "3    Not Graduate            No            2583.0              2358.0   \n",
       "4        Graduate            No            6000.0                 0.0   \n",
       "..            ...           ...               ...                 ...   \n",
       "614  Not Graduate            No            3987.0              1411.0   \n",
       "615      Graduate            No            3232.0              1950.0   \n",
       "616      Graduate            No            2900.0                 0.0   \n",
       "617      Graduate            No            4106.0                 0.0   \n",
       "619      Graduate            No            7583.0                 0.0   \n",
       "\n",
       "     loan_amount  loan_term_month  loan_term_year  credit_history  \\\n",
       "0         100000              360              30             1.0   \n",
       "1         128000              360              30             1.0   \n",
       "2          66000              360              30             1.0   \n",
       "3         120000              360              30             1.0   \n",
       "4         141000              360              30             1.0   \n",
       "..           ...              ...             ...             ...   \n",
       "614       157000              360              30             1.0   \n",
       "615       108000              360              30             1.0   \n",
       "616        71000              360              30             1.0   \n",
       "617        40000              180              15             1.0   \n",
       "619       187000              360              30             1.0   \n",
       "\n",
       "    property_type loan_status  \n",
       "0           house     APPROVE  \n",
       "1          studio      REJECT  \n",
       "2           house     APPROVE  \n",
       "3           house     APPROVE  \n",
       "4           house     APPROVE  \n",
       "..            ...         ...  \n",
       "614        studio     APPROVE  \n",
       "615        studio     APPROVE  \n",
       "616        studio     APPROVE  \n",
       "617        studio     APPROVE  \n",
       "619         house     APPROVE  \n",
       "\n",
       "[366 rows x 16 columns]"
      ]
     },
     "execution_count": 32,
     "metadata": {},
     "output_type": "execute_result"
    }
   ],
   "source": [
    "df1"
   ]
  },
  {
   "cell_type": "code",
   "execution_count": 33,
   "id": "f35564dd",
   "metadata": {},
   "outputs": [],
   "source": [
    "mapping_gender = {\n",
    "    'Male' :0,\n",
    "    'Female' :1\n",
    "}\n",
    "\n",
    "mapping_married = {\n",
    "    'No' : 0,\n",
    "    'Yes' : 1\n",
    "}\n",
    "\n",
    "mapping_dependents = {\n",
    "    '0' : 0,\n",
    "    '1' : 1,\n",
    "    '2' : 2,\n",
    "    '3+' : 3\n",
    "}\n",
    "\n",
    "mapping_education = {\n",
    "    'Not Graduate' : 0,\n",
    "    'Graduate' :1\n",
    "}\n",
    "\n",
    "mapping_self_employed = {\n",
    "    'No' : 0,\n",
    "    'Yes' : 1,\n",
    "}\n",
    "\n",
    "mapping_property_type = {\n",
    "    'house' :0,\n",
    "    'studio' :1,\n",
    "    'apartment' :2\n",
    "}\n",
    "\n",
    "df1['gender'] = df1['gender'].map(mapping_gender)\n",
    "df1['married'] = df1['married'].map(mapping_married)\n",
    "df1['dependents'] = df1['dependents'].map(mapping_dependents)\n",
    "df1['education'] = df1['education'].map(mapping_education)\n",
    "df1['self_employed'] = df1['self_employed'].map(mapping_self_employed)\n",
    "df1['property_type'] = df1['property_type'].map(mapping_property_type)"
   ]
  },
  {
   "cell_type": "code",
   "execution_count": 34,
   "id": "387c708c",
   "metadata": {},
   "outputs": [
    {
     "data": {
      "text/html": [
       "<div>\n",
       "<style scoped>\n",
       "    .dataframe tbody tr th:only-of-type {\n",
       "        vertical-align: middle;\n",
       "    }\n",
       "\n",
       "    .dataframe tbody tr th {\n",
       "        vertical-align: top;\n",
       "    }\n",
       "\n",
       "    .dataframe thead th {\n",
       "        text-align: right;\n",
       "    }\n",
       "</style>\n",
       "<table border=\"1\" class=\"dataframe\">\n",
       "  <thead>\n",
       "    <tr style=\"text-align: right;\">\n",
       "      <th></th>\n",
       "      <th>loan_id</th>\n",
       "      <th>birth_date</th>\n",
       "      <th>phone_number</th>\n",
       "      <th>gender</th>\n",
       "      <th>married</th>\n",
       "      <th>dependents</th>\n",
       "      <th>education</th>\n",
       "      <th>self_employed</th>\n",
       "      <th>applicant_income</th>\n",
       "      <th>coapplicant_income</th>\n",
       "      <th>loan_amount</th>\n",
       "      <th>loan_term_month</th>\n",
       "      <th>loan_term_year</th>\n",
       "      <th>credit_history</th>\n",
       "      <th>property_type</th>\n",
       "      <th>loan_status</th>\n",
       "    </tr>\n",
       "  </thead>\n",
       "  <tbody>\n",
       "    <tr>\n",
       "      <th>0</th>\n",
       "      <td>LP001002</td>\n",
       "      <td>1977-05-15</td>\n",
       "      <td>6.281142e+11</td>\n",
       "      <td>0</td>\n",
       "      <td>0</td>\n",
       "      <td>0</td>\n",
       "      <td>1</td>\n",
       "      <td>0</td>\n",
       "      <td>5849.0</td>\n",
       "      <td>0.0</td>\n",
       "      <td>100000</td>\n",
       "      <td>360</td>\n",
       "      <td>30</td>\n",
       "      <td>1.0</td>\n",
       "      <td>0</td>\n",
       "      <td>APPROVE</td>\n",
       "    </tr>\n",
       "    <tr>\n",
       "      <th>1</th>\n",
       "      <td>LP001003</td>\n",
       "      <td>1979-08-24</td>\n",
       "      <td>6.287764e+11</td>\n",
       "      <td>0</td>\n",
       "      <td>1</td>\n",
       "      <td>1</td>\n",
       "      <td>1</td>\n",
       "      <td>0</td>\n",
       "      <td>4583.0</td>\n",
       "      <td>1508.0</td>\n",
       "      <td>128000</td>\n",
       "      <td>360</td>\n",
       "      <td>30</td>\n",
       "      <td>1.0</td>\n",
       "      <td>1</td>\n",
       "      <td>REJECT</td>\n",
       "    </tr>\n",
       "    <tr>\n",
       "      <th>2</th>\n",
       "      <td>LP001005</td>\n",
       "      <td>1991-03-28</td>\n",
       "      <td>6.281192e+11</td>\n",
       "      <td>0</td>\n",
       "      <td>1</td>\n",
       "      <td>0</td>\n",
       "      <td>1</td>\n",
       "      <td>1</td>\n",
       "      <td>3000.0</td>\n",
       "      <td>0.0</td>\n",
       "      <td>66000</td>\n",
       "      <td>360</td>\n",
       "      <td>30</td>\n",
       "      <td>1.0</td>\n",
       "      <td>0</td>\n",
       "      <td>APPROVE</td>\n",
       "    </tr>\n",
       "    <tr>\n",
       "      <th>3</th>\n",
       "      <td>LP001006</td>\n",
       "      <td>1980-06-02</td>\n",
       "      <td>6.285634e+10</td>\n",
       "      <td>0</td>\n",
       "      <td>1</td>\n",
       "      <td>0</td>\n",
       "      <td>0</td>\n",
       "      <td>0</td>\n",
       "      <td>2583.0</td>\n",
       "      <td>2358.0</td>\n",
       "      <td>120000</td>\n",
       "      <td>360</td>\n",
       "      <td>30</td>\n",
       "      <td>1.0</td>\n",
       "      <td>0</td>\n",
       "      <td>APPROVE</td>\n",
       "    </tr>\n",
       "    <tr>\n",
       "      <th>4</th>\n",
       "      <td>LP001008</td>\n",
       "      <td>1989-05-19</td>\n",
       "      <td>6.281130e+11</td>\n",
       "      <td>0</td>\n",
       "      <td>0</td>\n",
       "      <td>0</td>\n",
       "      <td>1</td>\n",
       "      <td>0</td>\n",
       "      <td>6000.0</td>\n",
       "      <td>0.0</td>\n",
       "      <td>141000</td>\n",
       "      <td>360</td>\n",
       "      <td>30</td>\n",
       "      <td>1.0</td>\n",
       "      <td>0</td>\n",
       "      <td>APPROVE</td>\n",
       "    </tr>\n",
       "    <tr>\n",
       "      <th>...</th>\n",
       "      <td>...</td>\n",
       "      <td>...</td>\n",
       "      <td>...</td>\n",
       "      <td>...</td>\n",
       "      <td>...</td>\n",
       "      <td>...</td>\n",
       "      <td>...</td>\n",
       "      <td>...</td>\n",
       "      <td>...</td>\n",
       "      <td>...</td>\n",
       "      <td>...</td>\n",
       "      <td>...</td>\n",
       "      <td>...</td>\n",
       "      <td>...</td>\n",
       "      <td>...</td>\n",
       "      <td>...</td>\n",
       "    </tr>\n",
       "    <tr>\n",
       "      <th>614</th>\n",
       "      <td>LP002964</td>\n",
       "      <td>1984-02-27</td>\n",
       "      <td>6.281191e+11</td>\n",
       "      <td>0</td>\n",
       "      <td>1</td>\n",
       "      <td>2</td>\n",
       "      <td>0</td>\n",
       "      <td>0</td>\n",
       "      <td>3987.0</td>\n",
       "      <td>1411.0</td>\n",
       "      <td>157000</td>\n",
       "      <td>360</td>\n",
       "      <td>30</td>\n",
       "      <td>1.0</td>\n",
       "      <td>1</td>\n",
       "      <td>APPROVE</td>\n",
       "    </tr>\n",
       "    <tr>\n",
       "      <th>615</th>\n",
       "      <td>LP002974</td>\n",
       "      <td>1988-03-24</td>\n",
       "      <td>6.285739e+11</td>\n",
       "      <td>0</td>\n",
       "      <td>1</td>\n",
       "      <td>0</td>\n",
       "      <td>1</td>\n",
       "      <td>0</td>\n",
       "      <td>3232.0</td>\n",
       "      <td>1950.0</td>\n",
       "      <td>108000</td>\n",
       "      <td>360</td>\n",
       "      <td>30</td>\n",
       "      <td>1.0</td>\n",
       "      <td>1</td>\n",
       "      <td>APPROVE</td>\n",
       "    </tr>\n",
       "    <tr>\n",
       "      <th>616</th>\n",
       "      <td>LP002978</td>\n",
       "      <td>1976-03-25</td>\n",
       "      <td>6.285650e+11</td>\n",
       "      <td>1</td>\n",
       "      <td>0</td>\n",
       "      <td>0</td>\n",
       "      <td>1</td>\n",
       "      <td>0</td>\n",
       "      <td>2900.0</td>\n",
       "      <td>0.0</td>\n",
       "      <td>71000</td>\n",
       "      <td>360</td>\n",
       "      <td>30</td>\n",
       "      <td>1.0</td>\n",
       "      <td>1</td>\n",
       "      <td>APPROVE</td>\n",
       "    </tr>\n",
       "    <tr>\n",
       "      <th>617</th>\n",
       "      <td>LP002979</td>\n",
       "      <td>1987-01-26</td>\n",
       "      <td>6.281165e+11</td>\n",
       "      <td>0</td>\n",
       "      <td>1</td>\n",
       "      <td>3</td>\n",
       "      <td>1</td>\n",
       "      <td>0</td>\n",
       "      <td>4106.0</td>\n",
       "      <td>0.0</td>\n",
       "      <td>40000</td>\n",
       "      <td>180</td>\n",
       "      <td>15</td>\n",
       "      <td>1.0</td>\n",
       "      <td>1</td>\n",
       "      <td>APPROVE</td>\n",
       "    </tr>\n",
       "    <tr>\n",
       "      <th>619</th>\n",
       "      <td>LP002984</td>\n",
       "      <td>1986-12-05</td>\n",
       "      <td>6.281196e+11</td>\n",
       "      <td>0</td>\n",
       "      <td>1</td>\n",
       "      <td>2</td>\n",
       "      <td>1</td>\n",
       "      <td>0</td>\n",
       "      <td>7583.0</td>\n",
       "      <td>0.0</td>\n",
       "      <td>187000</td>\n",
       "      <td>360</td>\n",
       "      <td>30</td>\n",
       "      <td>1.0</td>\n",
       "      <td>0</td>\n",
       "      <td>APPROVE</td>\n",
       "    </tr>\n",
       "  </tbody>\n",
       "</table>\n",
       "<p>366 rows × 16 columns</p>\n",
       "</div>"
      ],
      "text/plain": [
       "      loan_id birth_date  phone_number  gender  married  dependents  \\\n",
       "0    LP001002 1977-05-15  6.281142e+11       0        0           0   \n",
       "1    LP001003 1979-08-24  6.287764e+11       0        1           1   \n",
       "2    LP001005 1991-03-28  6.281192e+11       0        1           0   \n",
       "3    LP001006 1980-06-02  6.285634e+10       0        1           0   \n",
       "4    LP001008 1989-05-19  6.281130e+11       0        0           0   \n",
       "..        ...        ...           ...     ...      ...         ...   \n",
       "614  LP002964 1984-02-27  6.281191e+11       0        1           2   \n",
       "615  LP002974 1988-03-24  6.285739e+11       0        1           0   \n",
       "616  LP002978 1976-03-25  6.285650e+11       1        0           0   \n",
       "617  LP002979 1987-01-26  6.281165e+11       0        1           3   \n",
       "619  LP002984 1986-12-05  6.281196e+11       0        1           2   \n",
       "\n",
       "     education  self_employed  applicant_income  coapplicant_income  \\\n",
       "0            1              0            5849.0                 0.0   \n",
       "1            1              0            4583.0              1508.0   \n",
       "2            1              1            3000.0                 0.0   \n",
       "3            0              0            2583.0              2358.0   \n",
       "4            1              0            6000.0                 0.0   \n",
       "..         ...            ...               ...                 ...   \n",
       "614          0              0            3987.0              1411.0   \n",
       "615          1              0            3232.0              1950.0   \n",
       "616          1              0            2900.0                 0.0   \n",
       "617          1              0            4106.0                 0.0   \n",
       "619          1              0            7583.0                 0.0   \n",
       "\n",
       "     loan_amount  loan_term_month  loan_term_year  credit_history  \\\n",
       "0         100000              360              30             1.0   \n",
       "1         128000              360              30             1.0   \n",
       "2          66000              360              30             1.0   \n",
       "3         120000              360              30             1.0   \n",
       "4         141000              360              30             1.0   \n",
       "..           ...              ...             ...             ...   \n",
       "614       157000              360              30             1.0   \n",
       "615       108000              360              30             1.0   \n",
       "616        71000              360              30             1.0   \n",
       "617        40000              180              15             1.0   \n",
       "619       187000              360              30             1.0   \n",
       "\n",
       "     property_type loan_status  \n",
       "0                0     APPROVE  \n",
       "1                1      REJECT  \n",
       "2                0     APPROVE  \n",
       "3                0     APPROVE  \n",
       "4                0     APPROVE  \n",
       "..             ...         ...  \n",
       "614              1     APPROVE  \n",
       "615              1     APPROVE  \n",
       "616              1     APPROVE  \n",
       "617              1     APPROVE  \n",
       "619              0     APPROVE  \n",
       "\n",
       "[366 rows x 16 columns]"
      ]
     },
     "execution_count": 34,
     "metadata": {},
     "output_type": "execute_result"
    }
   ],
   "source": [
    "df1"
   ]
  },
  {
   "cell_type": "markdown",
   "id": "5d356e12",
   "metadata": {},
   "source": [
    "# Visualization"
   ]
  },
  {
   "cell_type": "markdown",
   "id": "d7660d3f",
   "metadata": {},
   "source": [
    "## Business Insight\n",
    "\n",
    "Diclaimer: tidak ada jawaban benar salah dalam tahap ini. Setiap individu memiliki interpretasi yang berbeda-beda dalam menerjemahkan data menjadi sebuah insight. Feedback ini hanya untuk sharing dan berbagi pandangan dengan harapan bisa membantu pemahaman menjadi lebih baik :)"
   ]
  },
  {
   "cell_type": "markdown",
   "id": "1b0fe738",
   "metadata": {},
   "source": [
    "### Analisis minat pelanggan berdasarkan pada tipe properti"
   ]
  },
  {
   "cell_type": "code",
   "execution_count": 35,
   "id": "e4fd8dd7",
   "metadata": {},
   "outputs": [
    {
     "data": {
      "text/html": [
       "<div>\n",
       "<style scoped>\n",
       "    .dataframe tbody tr th:only-of-type {\n",
       "        vertical-align: middle;\n",
       "    }\n",
       "\n",
       "    .dataframe tbody tr th {\n",
       "        vertical-align: top;\n",
       "    }\n",
       "\n",
       "    .dataframe thead th {\n",
       "        text-align: right;\n",
       "    }\n",
       "</style>\n",
       "<table border=\"1\" class=\"dataframe\">\n",
       "  <thead>\n",
       "    <tr style=\"text-align: right;\">\n",
       "      <th></th>\n",
       "      <th>gender</th>\n",
       "      <th>property_type</th>\n",
       "      <th>count</th>\n",
       "    </tr>\n",
       "  </thead>\n",
       "  <tbody>\n",
       "    <tr>\n",
       "      <th>0</th>\n",
       "      <td>Female</td>\n",
       "      <td>apartment</td>\n",
       "      <td>34</td>\n",
       "    </tr>\n",
       "    <tr>\n",
       "      <th>1</th>\n",
       "      <td>Female</td>\n",
       "      <td>house</td>\n",
       "      <td>16</td>\n",
       "    </tr>\n",
       "    <tr>\n",
       "      <th>2</th>\n",
       "      <td>Female</td>\n",
       "      <td>studio</td>\n",
       "      <td>17</td>\n",
       "    </tr>\n",
       "    <tr>\n",
       "      <th>3</th>\n",
       "      <td>Male</td>\n",
       "      <td>apartment</td>\n",
       "      <td>114</td>\n",
       "    </tr>\n",
       "    <tr>\n",
       "      <th>4</th>\n",
       "      <td>Male</td>\n",
       "      <td>house</td>\n",
       "      <td>98</td>\n",
       "    </tr>\n",
       "    <tr>\n",
       "      <th>5</th>\n",
       "      <td>Male</td>\n",
       "      <td>studio</td>\n",
       "      <td>87</td>\n",
       "    </tr>\n",
       "  </tbody>\n",
       "</table>\n",
       "</div>"
      ],
      "text/plain": [
       "   gender property_type  count\n",
       "0  Female     apartment     34\n",
       "1  Female         house     16\n",
       "2  Female        studio     17\n",
       "3    Male     apartment    114\n",
       "4    Male         house     98\n",
       "5    Male        studio     87"
      ]
     },
     "execution_count": 35,
     "metadata": {},
     "output_type": "execute_result"
    }
   ],
   "source": [
    "df_gr1 = df.groupby(['gender', 'property_type'])['loan_id'].count().reset_index()\n",
    "df_gr1.columns = ['gender','property_type','count']\n",
    "df_gr1"
   ]
  },
  {
   "cell_type": "code",
   "execution_count": 36,
   "id": "fd0d84ae",
   "metadata": {},
   "outputs": [
    {
     "data": {
      "text/plain": [
       "<AxesSubplot:xlabel='property_type', ylabel='count'>"
      ]
     },
     "execution_count": 36,
     "metadata": {},
     "output_type": "execute_result"
    },
    {
     "data": {
      "image/png": "[encoded data removed]",
      "text/plain": [
       "<Figure size 864x576 with 1 Axes>"
      ]
     },
     "metadata": {},
     "output_type": "display_data"
    }
   ],
   "source": [
    "# Visualisasi data diatas menggunakan bar chart (perbandingan)\n",
    "\n",
    "sns.set(style=\"darkgrid\")\n",
    "f, ax = plt.subplots(1,1,figsize=(12,8))\n",
    "sns.countplot(x = 'property_type', data=df, hue='gender', palette=\"Set1\")\n"
   ]
  },
  {
   "cell_type": "code",
   "execution_count": 37,
   "id": "4f48fcc2",
   "metadata": {},
   "outputs": [
    {
     "data": {
      "image/png": "[encoded data removed]",
      "text/plain": [
       "<Figure size 864x576 with 1 Axes>"
      ]
     },
     "metadata": {},
     "output_type": "display_data"
    }
   ],
   "source": [
    "sns.set(style=\"darkgrid\")\n",
    "f, ax = plt.subplots(1,1,figsize=(12,8))\n",
    "sns.countplot(x = 'property_type', data=df, hue='gender', palette=\"Set1\")\n",
    "\n",
    "for bar in ax.patches :\n",
    "    bar_value = bar.get_height()\n",
    "    text = f'{bar_value:,}'\n",
    "    text_x = bar.get_x() + bar.get_width() / 2\n",
    "    text_y = bar.get_y() + bar_value\n",
    "    bar_color = bar.get_facecolor()\n",
    "    ax.text(text_x, text_y, text, ha='center', va='bottom', color='black', size=12)\n",
    "\n",
    "ax.set_xlabel('Property Type', labelpad=15)\n",
    "ax.set_ylabel('Count', labelpad=15)\n",
    "ax.set_title('Apartment is the most popular property type \\nfor both male and female customers', pad=15, size=20)\n",
    "plt.tight_layout() \n",
    "plt.savefig('Analyze_the_behavior_of_loan_property_customers_01.png', dpi=200);"
   ]
  },
  {
   "cell_type": "markdown",
   "id": "df59c066",
   "metadata": {},
   "source": [
    "### Analisis pengaruh status perkawinan terhadap jangka waktu peminjaman "
   ]
  },
  {
   "cell_type": "code",
   "execution_count": 38,
   "id": "04aa1495",
   "metadata": {},
   "outputs": [
    {
     "data": {
      "text/html": [
       "<div>\n",
       "<style scoped>\n",
       "    .dataframe tbody tr th:only-of-type {\n",
       "        vertical-align: middle;\n",
       "    }\n",
       "\n",
       "    .dataframe tbody tr th {\n",
       "        vertical-align: top;\n",
       "    }\n",
       "\n",
       "    .dataframe thead th {\n",
       "        text-align: right;\n",
       "    }\n",
       "</style>\n",
       "<table border=\"1\" class=\"dataframe\">\n",
       "  <thead>\n",
       "    <tr style=\"text-align: right;\">\n",
       "      <th></th>\n",
       "      <th>married</th>\n",
       "      <th>loan_term_year</th>\n",
       "      <th>number_of_applicant</th>\n",
       "    </tr>\n",
       "  </thead>\n",
       "  <tbody>\n",
       "    <tr>\n",
       "      <th>0</th>\n",
       "      <td>No</td>\n",
       "      <td>3</td>\n",
       "      <td>2</td>\n",
       "    </tr>\n",
       "    <tr>\n",
       "      <th>1</th>\n",
       "      <td>No</td>\n",
       "      <td>5</td>\n",
       "      <td>1</td>\n",
       "    </tr>\n",
       "    <tr>\n",
       "      <th>2</th>\n",
       "      <td>No</td>\n",
       "      <td>10</td>\n",
       "      <td>1</td>\n",
       "    </tr>\n",
       "    <tr>\n",
       "      <th>3</th>\n",
       "      <td>No</td>\n",
       "      <td>15</td>\n",
       "      <td>4</td>\n",
       "    </tr>\n",
       "    <tr>\n",
       "      <th>4</th>\n",
       "      <td>No</td>\n",
       "      <td>25</td>\n",
       "      <td>3</td>\n",
       "    </tr>\n",
       "    <tr>\n",
       "      <th>5</th>\n",
       "      <td>No</td>\n",
       "      <td>30</td>\n",
       "      <td>119</td>\n",
       "    </tr>\n",
       "    <tr>\n",
       "      <th>6</th>\n",
       "      <td>No</td>\n",
       "      <td>40</td>\n",
       "      <td>6</td>\n",
       "    </tr>\n",
       "    <tr>\n",
       "      <th>7</th>\n",
       "      <td>Yes</td>\n",
       "      <td>5</td>\n",
       "      <td>1</td>\n",
       "    </tr>\n",
       "    <tr>\n",
       "      <th>8</th>\n",
       "      <td>Yes</td>\n",
       "      <td>7</td>\n",
       "      <td>3</td>\n",
       "    </tr>\n",
       "    <tr>\n",
       "      <th>9</th>\n",
       "      <td>Yes</td>\n",
       "      <td>10</td>\n",
       "      <td>1</td>\n",
       "    </tr>\n",
       "    <tr>\n",
       "      <th>10</th>\n",
       "      <td>Yes</td>\n",
       "      <td>15</td>\n",
       "      <td>22</td>\n",
       "    </tr>\n",
       "    <tr>\n",
       "      <th>11</th>\n",
       "      <td>Yes</td>\n",
       "      <td>20</td>\n",
       "      <td>2</td>\n",
       "    </tr>\n",
       "    <tr>\n",
       "      <th>12</th>\n",
       "      <td>Yes</td>\n",
       "      <td>25</td>\n",
       "      <td>5</td>\n",
       "    </tr>\n",
       "    <tr>\n",
       "      <th>13</th>\n",
       "      <td>Yes</td>\n",
       "      <td>30</td>\n",
       "      <td>191</td>\n",
       "    </tr>\n",
       "    <tr>\n",
       "      <th>14</th>\n",
       "      <td>Yes</td>\n",
       "      <td>40</td>\n",
       "      <td>5</td>\n",
       "    </tr>\n",
       "  </tbody>\n",
       "</table>\n",
       "</div>"
      ],
      "text/plain": [
       "   married  loan_term_year  number_of_applicant\n",
       "0       No               3                    2\n",
       "1       No               5                    1\n",
       "2       No              10                    1\n",
       "3       No              15                    4\n",
       "4       No              25                    3\n",
       "5       No              30                  119\n",
       "6       No              40                    6\n",
       "7      Yes               5                    1\n",
       "8      Yes               7                    3\n",
       "9      Yes              10                    1\n",
       "10     Yes              15                   22\n",
       "11     Yes              20                    2\n",
       "12     Yes              25                    5\n",
       "13     Yes              30                  191\n",
       "14     Yes              40                    5"
      ]
     },
     "execution_count": 38,
     "metadata": {},
     "output_type": "execute_result"
    }
   ],
   "source": [
    "df_gr2 = df.groupby(['married','loan_term_year'])['loan_id'].count().reset_index()\n",
    "df_gr2.columns = ['married', 'loan_term_year', 'number_of_applicant']\n",
    "df_gr2"
   ]
  },
  {
   "cell_type": "markdown",
   "id": "4d41913c",
   "metadata": {},
   "source": [
    "Data di atas menunjukkan perbedaan kategori dalam data waktu lama meminjam. Oleh karena itu perlu dilakukan grouping untuk membuat kategori lama waktu meminjam menjadi seragam antara pelanggan menikah dan belum menikah, sehingga kita bisa melihat terlebih dahulu persebaran datanya"
   ]
  },
  {
   "cell_type": "code",
   "execution_count": 39,
   "id": "e5ee8481",
   "metadata": {},
   "outputs": [
    {
     "data": {
      "text/plain": [
       "<AxesSubplot:xlabel='loan_term_year', ylabel='Count'>"
      ]
     },
     "execution_count": 39,
     "metadata": {},
     "output_type": "execute_result"
    },
    {
     "data": {
      "image/png": "[encoded data removed]",
      "text/plain": [
       "<Figure size 864x576 with 1 Axes>"
      ]
     },
     "metadata": {},
     "output_type": "display_data"
    }
   ],
   "source": [
    "sns.set(style=\"darkgrid\")\n",
    "f, ax = plt.subplots(1,1,figsize=(12,8))\n",
    "\n",
    "sns.histplot(data=df, x=\"loan_term_year\", bins=10, color=\"pink\")"
   ]
  },
  {
   "cell_type": "markdown",
   "id": "33fc7c6f",
   "metadata": {},
   "source": [
    "Berdasarkan grafik di atas, maka kita dapat mengelompokkan data menjadi beberapa kategori yaitu:\n",
    "\n",
    "- <15\n",
    "- 15-25\n",
    "- 30\n",
    "- (>30)"
   ]
  },
  {
   "cell_type": "code",
   "execution_count": 40,
   "id": "192e2b3d",
   "metadata": {},
   "outputs": [],
   "source": [
    "# membuat kategori untuk loan_term_year\n",
    "loan_term_year_group = {}\n",
    "for i in range(1,41) :\n",
    "    if i<5:\n",
    "        loan_term_year_group[i]='<15'\n",
    "    elif i>=15 and i<=25:\n",
    "        loan_term_year_group[i]= '15-25'\n",
    "    elif i==30:\n",
    "        loan_term_year_group[i]= '30'\n",
    "    elif i>30:\n",
    "        loan_term_year_group[i]= '>30'\n",
    "    else:\n",
    "        pass\n",
    "    \n",
    "# membuat kolom baru berdasarkan pada grouping sebelumnya\n",
    "df_gr2['loan_term_year_group'] = df_gr2['loan_term_year'].replace(loan_term_year_group)"
   ]
  },
  {
   "cell_type": "code",
   "execution_count": 41,
   "id": "c30902bf",
   "metadata": {},
   "outputs": [
    {
     "data": {
      "text/plain": [
       "Text(-0.5, 205, 'Most applicants who are married or not have chosen a loan term of 30 years')"
      ]
     },
     "execution_count": 41,
     "metadata": {},
     "output_type": "execute_result"
    },
    {
     "data": {
      "image/png": "[encoded data removed]",
      "text/plain": [
       "<Figure size 1080x720 with 1 Axes>"
      ]
     },
     "metadata": {},
     "output_type": "display_data"
    }
   ],
   "source": [
    "plt.figure(figsize=(15,10))\n",
    "sns.barplot(x='loan_term_year_group', y='number_of_applicant', hue='married', data=df_gr2)\n",
    "\n",
    "plt.tick_params(axis='both', which='major', labelsize=12)\n",
    "plt.grid()\n",
    "plt.legend(title='Married Status', title_fontsize=14, prop={'size':12}, loc=9)\n",
    "\n",
    "plt.xlabel('Loan Term Group (in Year)', fontsize=14)\n",
    "plt.ylabel('Number of Applicant', fontsize=14)\n",
    "plt.text(x=-0.5, y=205, s=\"Most applicants who are married or not have chosen a loan term of 30 years\", \n",
    "         fontsize=20, fontweight='bold') "
   ]
  },
  {
   "cell_type": "markdown",
   "id": "400425a3",
   "metadata": {},
   "source": [
    "### Analisis pengaruh pendidikan terhadap gender customer yang tertarik melakukan peminjaman "
   ]
  },
  {
   "cell_type": "code",
   "execution_count": 42,
   "id": "c1c8cb74",
   "metadata": {},
   "outputs": [
    {
     "data": {
      "text/html": [
       "<div>\n",
       "<style scoped>\n",
       "    .dataframe tbody tr th:only-of-type {\n",
       "        vertical-align: middle;\n",
       "    }\n",
       "\n",
       "    .dataframe tbody tr th {\n",
       "        vertical-align: top;\n",
       "    }\n",
       "\n",
       "    .dataframe thead th {\n",
       "        text-align: right;\n",
       "    }\n",
       "</style>\n",
       "<table border=\"1\" class=\"dataframe\">\n",
       "  <thead>\n",
       "    <tr style=\"text-align: right;\">\n",
       "      <th></th>\n",
       "      <th>gender</th>\n",
       "      <th>education</th>\n",
       "      <th>count</th>\n",
       "    </tr>\n",
       "  </thead>\n",
       "  <tbody>\n",
       "    <tr>\n",
       "      <th>0</th>\n",
       "      <td>Female</td>\n",
       "      <td>Graduate</td>\n",
       "      <td>54</td>\n",
       "    </tr>\n",
       "    <tr>\n",
       "      <th>1</th>\n",
       "      <td>Female</td>\n",
       "      <td>Not Graduate</td>\n",
       "      <td>13</td>\n",
       "    </tr>\n",
       "    <tr>\n",
       "      <th>2</th>\n",
       "      <td>Male</td>\n",
       "      <td>Graduate</td>\n",
       "      <td>219</td>\n",
       "    </tr>\n",
       "    <tr>\n",
       "      <th>3</th>\n",
       "      <td>Male</td>\n",
       "      <td>Not Graduate</td>\n",
       "      <td>80</td>\n",
       "    </tr>\n",
       "  </tbody>\n",
       "</table>\n",
       "</div>"
      ],
      "text/plain": [
       "   gender     education  count\n",
       "0  Female      Graduate     54\n",
       "1  Female  Not Graduate     13\n",
       "2    Male      Graduate    219\n",
       "3    Male  Not Graduate     80"
      ]
     },
     "execution_count": 42,
     "metadata": {},
     "output_type": "execute_result"
    }
   ],
   "source": [
    "df_gr3 = df.groupby(['gender','education'])['loan_id'].count().reset_index()\n",
    "df_gr3.columns = ['gender','education','count']\n",
    "df_gr3"
   ]
  },
  {
   "cell_type": "code",
   "execution_count": 43,
   "id": "25b41e93",
   "metadata": {},
   "outputs": [
    {
     "data": {
      "image/png": "[encoded data removed]",
      "text/plain": [
       "<Figure size 864x576 with 1 Axes>"
      ]
     },
     "metadata": {},
     "output_type": "display_data"
    }
   ],
   "source": [
    "sns.set(style=\"darkgrid\")\n",
    "f, ax = plt.subplots(1,1,figsize=(12,8))\n",
    "sns.countplot(x= 'education', data = df, hue = 'gender', palette =\"Set3\")\n",
    "\n",
    "for bar in ax.patches:\n",
    "    bar_value = bar.get_height()\n",
    "    text = f'{bar_value:,}'\n",
    "    text_x = bar.get_x() + bar.get_width() / 2\n",
    "    text_y = bar.get_y() + bar_value \n",
    "    bar_color = bar.get_facecolor()\n",
    "    ax.text(text_x, text_y, text, ha='center', va='bottom', color='black', size=12)\n",
    "    \n",
    "ax.set_xlabel('Education Level', labelpad=15)\n",
    "ax.set_ylabel('Count', labelpad=15)\n",
    "ax.set_title('Education Level Vs Gender Customers')\n",
    "plt.tight_layout()\n",
    "plt.savefig('Analyze_the_behavior_of_education_customers_02.png', dpi=200);"
   ]
  },
  {
   "cell_type": "markdown",
   "id": "fcffd62f",
   "metadata": {},
   "source": [
    "### Analisis pengaruh status perkawinan terhadap gender customer yang tertarik melakukan peminjaman"
   ]
  },
  {
   "cell_type": "code",
   "execution_count": 44,
   "id": "69c1db27",
   "metadata": {},
   "outputs": [
    {
     "data": {
      "text/html": [
       "<div>\n",
       "<style scoped>\n",
       "    .dataframe tbody tr th:only-of-type {\n",
       "        vertical-align: middle;\n",
       "    }\n",
       "\n",
       "    .dataframe tbody tr th {\n",
       "        vertical-align: top;\n",
       "    }\n",
       "\n",
       "    .dataframe thead th {\n",
       "        text-align: right;\n",
       "    }\n",
       "</style>\n",
       "<table border=\"1\" class=\"dataframe\">\n",
       "  <thead>\n",
       "    <tr style=\"text-align: right;\">\n",
       "      <th></th>\n",
       "      <th>gender</th>\n",
       "      <th>married</th>\n",
       "      <th>number_of_applicant</th>\n",
       "    </tr>\n",
       "  </thead>\n",
       "  <tbody>\n",
       "    <tr>\n",
       "      <th>0</th>\n",
       "      <td>Female</td>\n",
       "      <td>No</td>\n",
       "      <td>49</td>\n",
       "    </tr>\n",
       "    <tr>\n",
       "      <th>1</th>\n",
       "      <td>Female</td>\n",
       "      <td>Yes</td>\n",
       "      <td>18</td>\n",
       "    </tr>\n",
       "    <tr>\n",
       "      <th>2</th>\n",
       "      <td>Male</td>\n",
       "      <td>No</td>\n",
       "      <td>87</td>\n",
       "    </tr>\n",
       "    <tr>\n",
       "      <th>3</th>\n",
       "      <td>Male</td>\n",
       "      <td>Yes</td>\n",
       "      <td>212</td>\n",
       "    </tr>\n",
       "  </tbody>\n",
       "</table>\n",
       "</div>"
      ],
      "text/plain": [
       "   gender married  number_of_applicant\n",
       "0  Female      No                   49\n",
       "1  Female     Yes                   18\n",
       "2    Male      No                   87\n",
       "3    Male     Yes                  212"
      ]
     },
     "execution_count": 44,
     "metadata": {},
     "output_type": "execute_result"
    }
   ],
   "source": [
    "df_gr4 = df.groupby(['gender','married'])['loan_id'].count().reset_index()\n",
    "df_gr4.columns = ['gender','married','number_of_applicant']\n",
    "df_gr4"
   ]
  },
  {
   "cell_type": "code",
   "execution_count": 45,
   "id": "48f5eb1d",
   "metadata": {},
   "outputs": [
    {
     "data": {
      "text/plain": [
       "Text(-0.5, 205, 'Most applicants who are married or not ')"
      ]
     },
     "execution_count": 45,
     "metadata": {},
     "output_type": "execute_result"
    },
    {
     "data": {
      "image/png": "[encoded data removed]",
      "text/plain": [
       "<Figure size 1080x720 with 1 Axes>"
      ]
     },
     "metadata": {},
     "output_type": "display_data"
    }
   ],
   "source": [
    "plt.figure(figsize=(15,10))\n",
    "sns.barplot(x='gender', y='number_of_applicant', hue='married', data=df_gr4)\n",
    "\n",
    "plt.tick_params(axis='both', which='major', labelsize=12)\n",
    "plt.grid()\n",
    "plt.legend(title='Married', title_fontsize=14, prop={'size':12}, loc=9)\n",
    "\n",
    "plt.xlabel('Gender', fontsize=14)\n",
    "plt.ylabel('Number of Applicant', fontsize=14)\n",
    "plt.text(x=-0.5, y=205, s=\"Most applicants who are married or not \", \n",
    "         fontsize=20, fontweight='bold') "
   ]
  },
  {
   "cell_type": "markdown",
   "id": "850daa7a",
   "metadata": {},
   "source": [
    "### Analisis pengaruh pendapatan pemohon dan pendidikan terhadap peminjaman"
   ]
  },
  {
   "cell_type": "code",
   "execution_count": 46,
   "id": "95d68868",
   "metadata": {},
   "outputs": [
    {
     "data": {
      "text/html": [
       "<div>\n",
       "<style scoped>\n",
       "    .dataframe tbody tr th:only-of-type {\n",
       "        vertical-align: middle;\n",
       "    }\n",
       "\n",
       "    .dataframe tbody tr th {\n",
       "        vertical-align: top;\n",
       "    }\n",
       "\n",
       "    .dataframe thead th {\n",
       "        text-align: right;\n",
       "    }\n",
       "</style>\n",
       "<table border=\"1\" class=\"dataframe\">\n",
       "  <thead>\n",
       "    <tr style=\"text-align: right;\">\n",
       "      <th></th>\n",
       "      <th>applicant_income</th>\n",
       "      <th>education</th>\n",
       "      <th>number_of_applicant</th>\n",
       "    </tr>\n",
       "  </thead>\n",
       "  <tbody>\n",
       "    <tr>\n",
       "      <th>0</th>\n",
       "      <td>150.0</td>\n",
       "      <td>Graduate</td>\n",
       "      <td>1</td>\n",
       "    </tr>\n",
       "    <tr>\n",
       "      <th>1</th>\n",
       "      <td>1000.0</td>\n",
       "      <td>Graduate</td>\n",
       "      <td>1</td>\n",
       "    </tr>\n",
       "    <tr>\n",
       "      <th>2</th>\n",
       "      <td>1025.0</td>\n",
       "      <td>Graduate</td>\n",
       "      <td>1</td>\n",
       "    </tr>\n",
       "    <tr>\n",
       "      <th>3</th>\n",
       "      <td>1299.0</td>\n",
       "      <td>Graduate</td>\n",
       "      <td>1</td>\n",
       "    </tr>\n",
       "    <tr>\n",
       "      <th>4</th>\n",
       "      <td>1442.0</td>\n",
       "      <td>Not Graduate</td>\n",
       "      <td>1</td>\n",
       "    </tr>\n",
       "    <tr>\n",
       "      <th>...</th>\n",
       "      <td>...</td>\n",
       "      <td>...</td>\n",
       "      <td>...</td>\n",
       "    </tr>\n",
       "    <tr>\n",
       "      <th>323</th>\n",
       "      <td>9508.0</td>\n",
       "      <td>Graduate</td>\n",
       "      <td>1</td>\n",
       "    </tr>\n",
       "    <tr>\n",
       "      <th>324</th>\n",
       "      <td>9538.0</td>\n",
       "      <td>Graduate</td>\n",
       "      <td>1</td>\n",
       "    </tr>\n",
       "    <tr>\n",
       "      <th>325</th>\n",
       "      <td>9703.0</td>\n",
       "      <td>Graduate</td>\n",
       "      <td>1</td>\n",
       "    </tr>\n",
       "    <tr>\n",
       "      <th>326</th>\n",
       "      <td>9963.0</td>\n",
       "      <td>Graduate</td>\n",
       "      <td>1</td>\n",
       "    </tr>\n",
       "    <tr>\n",
       "      <th>327</th>\n",
       "      <td>10000.0</td>\n",
       "      <td>Graduate</td>\n",
       "      <td>2</td>\n",
       "    </tr>\n",
       "  </tbody>\n",
       "</table>\n",
       "<p>328 rows × 3 columns</p>\n",
       "</div>"
      ],
      "text/plain": [
       "     applicant_income     education  number_of_applicant\n",
       "0               150.0      Graduate                    1\n",
       "1              1000.0      Graduate                    1\n",
       "2              1025.0      Graduate                    1\n",
       "3              1299.0      Graduate                    1\n",
       "4              1442.0  Not Graduate                    1\n",
       "..                ...           ...                  ...\n",
       "323            9508.0      Graduate                    1\n",
       "324            9538.0      Graduate                    1\n",
       "325            9703.0      Graduate                    1\n",
       "326            9963.0      Graduate                    1\n",
       "327           10000.0      Graduate                    2\n",
       "\n",
       "[328 rows x 3 columns]"
      ]
     },
     "execution_count": 46,
     "metadata": {},
     "output_type": "execute_result"
    }
   ],
   "source": [
    "df_gr5 = df.groupby(['applicant_income','education'])['loan_id'].count().reset_index()\n",
    "df_gr5.columns = ['applicant_income', 'education', 'number_of_applicant']\n",
    "df_gr5"
   ]
  },
  {
   "cell_type": "code",
   "execution_count": 47,
   "id": "4083e081",
   "metadata": {},
   "outputs": [
    {
     "data": {
      "text/plain": [
       "<AxesSubplot:xlabel='applicant_income', ylabel='Count'>"
      ]
     },
     "execution_count": 47,
     "metadata": {},
     "output_type": "execute_result"
    },
    {
     "data": {
      "image/png": "[encoded data removed]",
      "text/plain": [
       "<Figure size 432x288 with 1 Axes>"
      ]
     },
     "metadata": {},
     "output_type": "display_data"
    }
   ],
   "source": [
    "sns.histplot(data=df, x=\"applicant_income\", bins=10, color=\"pink\")"
   ]
  },
  {
   "cell_type": "markdown",
   "id": "1c27c9ee",
   "metadata": {},
   "source": [
    "Berdasarkan grafik di atas, maka kita dapat mengelompokkan data menjadi beberapa kategori yaitu:\n",
    "\n",
    "- <2000\n",
    "- 2000-4000\n",
    "- 4000-6000\n",
    "- 6000-8000\n",
    "- (>8000)"
   ]
  },
  {
   "cell_type": "code",
   "execution_count": 48,
   "id": "f0456e60",
   "metadata": {},
   "outputs": [],
   "source": [
    "# membuat kategori untuk applicant_income \n",
    "applicant_income_group = {}\n",
    "for i in range(0,100001):\n",
    "    if i<2000:\n",
    "        applicant_income_group[i]='<2000'\n",
    "    elif i>=2000 and i<=4000:\n",
    "        applicant_income_group[i]='2000-4000'\n",
    "    elif i>=4000 and i<=6000:\n",
    "        applicant_income_group[i]='4000-6000'\n",
    "    elif i>=6000 and i<=8000:\n",
    "        applicant_income_group[i]='6000-8000'\n",
    "    elif i>8000:\n",
    "        applicant_income_group[i]='>8000'\n",
    "    else:\n",
    "        pass\n",
    "# membuat kolom baru berdasarkan pada grouping sebelumnya \n",
    "df_gr5['applicant_income_group'] = df_gr5['applicant_income'].replace(applicant_income_group)"
   ]
  },
  {
   "cell_type": "code",
   "execution_count": 49,
   "id": "55d4e808",
   "metadata": {},
   "outputs": [
    {
     "data": {
      "text/html": [
       "<div>\n",
       "<style scoped>\n",
       "    .dataframe tbody tr th:only-of-type {\n",
       "        vertical-align: middle;\n",
       "    }\n",
       "\n",
       "    .dataframe tbody tr th {\n",
       "        vertical-align: top;\n",
       "    }\n",
       "\n",
       "    .dataframe thead th {\n",
       "        text-align: right;\n",
       "    }\n",
       "</style>\n",
       "<table border=\"1\" class=\"dataframe\">\n",
       "  <thead>\n",
       "    <tr style=\"text-align: right;\">\n",
       "      <th></th>\n",
       "      <th>applicant_income</th>\n",
       "      <th>education</th>\n",
       "      <th>number_of_applicant</th>\n",
       "      <th>applicant_income_group</th>\n",
       "    </tr>\n",
       "  </thead>\n",
       "  <tbody>\n",
       "    <tr>\n",
       "      <th>0</th>\n",
       "      <td>150.0</td>\n",
       "      <td>Graduate</td>\n",
       "      <td>1</td>\n",
       "      <td>&lt;2000</td>\n",
       "    </tr>\n",
       "    <tr>\n",
       "      <th>1</th>\n",
       "      <td>1000.0</td>\n",
       "      <td>Graduate</td>\n",
       "      <td>1</td>\n",
       "      <td>&lt;2000</td>\n",
       "    </tr>\n",
       "    <tr>\n",
       "      <th>2</th>\n",
       "      <td>1025.0</td>\n",
       "      <td>Graduate</td>\n",
       "      <td>1</td>\n",
       "      <td>&lt;2000</td>\n",
       "    </tr>\n",
       "    <tr>\n",
       "      <th>3</th>\n",
       "      <td>1299.0</td>\n",
       "      <td>Graduate</td>\n",
       "      <td>1</td>\n",
       "      <td>&lt;2000</td>\n",
       "    </tr>\n",
       "    <tr>\n",
       "      <th>4</th>\n",
       "      <td>1442.0</td>\n",
       "      <td>Not Graduate</td>\n",
       "      <td>1</td>\n",
       "      <td>&lt;2000</td>\n",
       "    </tr>\n",
       "    <tr>\n",
       "      <th>...</th>\n",
       "      <td>...</td>\n",
       "      <td>...</td>\n",
       "      <td>...</td>\n",
       "      <td>...</td>\n",
       "    </tr>\n",
       "    <tr>\n",
       "      <th>323</th>\n",
       "      <td>9508.0</td>\n",
       "      <td>Graduate</td>\n",
       "      <td>1</td>\n",
       "      <td>&gt;8000</td>\n",
       "    </tr>\n",
       "    <tr>\n",
       "      <th>324</th>\n",
       "      <td>9538.0</td>\n",
       "      <td>Graduate</td>\n",
       "      <td>1</td>\n",
       "      <td>&gt;8000</td>\n",
       "    </tr>\n",
       "    <tr>\n",
       "      <th>325</th>\n",
       "      <td>9703.0</td>\n",
       "      <td>Graduate</td>\n",
       "      <td>1</td>\n",
       "      <td>&gt;8000</td>\n",
       "    </tr>\n",
       "    <tr>\n",
       "      <th>326</th>\n",
       "      <td>9963.0</td>\n",
       "      <td>Graduate</td>\n",
       "      <td>1</td>\n",
       "      <td>&gt;8000</td>\n",
       "    </tr>\n",
       "    <tr>\n",
       "      <th>327</th>\n",
       "      <td>10000.0</td>\n",
       "      <td>Graduate</td>\n",
       "      <td>2</td>\n",
       "      <td>&gt;8000</td>\n",
       "    </tr>\n",
       "  </tbody>\n",
       "</table>\n",
       "<p>328 rows × 4 columns</p>\n",
       "</div>"
      ],
      "text/plain": [
       "     applicant_income     education  number_of_applicant  \\\n",
       "0               150.0      Graduate                    1   \n",
       "1              1000.0      Graduate                    1   \n",
       "2              1025.0      Graduate                    1   \n",
       "3              1299.0      Graduate                    1   \n",
       "4              1442.0  Not Graduate                    1   \n",
       "..                ...           ...                  ...   \n",
       "323            9508.0      Graduate                    1   \n",
       "324            9538.0      Graduate                    1   \n",
       "325            9703.0      Graduate                    1   \n",
       "326            9963.0      Graduate                    1   \n",
       "327           10000.0      Graduate                    2   \n",
       "\n",
       "    applicant_income_group  \n",
       "0                    <2000  \n",
       "1                    <2000  \n",
       "2                    <2000  \n",
       "3                    <2000  \n",
       "4                    <2000  \n",
       "..                     ...  \n",
       "323                  >8000  \n",
       "324                  >8000  \n",
       "325                  >8000  \n",
       "326                  >8000  \n",
       "327                  >8000  \n",
       "\n",
       "[328 rows x 4 columns]"
      ]
     },
     "execution_count": 49,
     "metadata": {},
     "output_type": "execute_result"
    }
   ],
   "source": [
    "df_gr5"
   ]
  },
  {
   "cell_type": "code",
   "execution_count": 50,
   "id": "a35e75f8",
   "metadata": {},
   "outputs": [
    {
     "data": {
      "text/html": [
       "<div>\n",
       "<style scoped>\n",
       "    .dataframe tbody tr th:only-of-type {\n",
       "        vertical-align: middle;\n",
       "    }\n",
       "\n",
       "    .dataframe tbody tr th {\n",
       "        vertical-align: top;\n",
       "    }\n",
       "\n",
       "    .dataframe thead th {\n",
       "        text-align: right;\n",
       "    }\n",
       "</style>\n",
       "<table border=\"1\" class=\"dataframe\">\n",
       "  <thead>\n",
       "    <tr style=\"text-align: right;\">\n",
       "      <th></th>\n",
       "      <th>education</th>\n",
       "      <th>applicant_income_group</th>\n",
       "      <th>number_of_applicant</th>\n",
       "    </tr>\n",
       "  </thead>\n",
       "  <tbody>\n",
       "    <tr>\n",
       "      <th>0</th>\n",
       "      <td>Graduate</td>\n",
       "      <td>2000-4000</td>\n",
       "      <td>124</td>\n",
       "    </tr>\n",
       "    <tr>\n",
       "      <th>1</th>\n",
       "      <td>Graduate</td>\n",
       "      <td>4000-6000</td>\n",
       "      <td>62</td>\n",
       "    </tr>\n",
       "    <tr>\n",
       "      <th>2</th>\n",
       "      <td>Graduate</td>\n",
       "      <td>6000-8000</td>\n",
       "      <td>24</td>\n",
       "    </tr>\n",
       "    <tr>\n",
       "      <th>3</th>\n",
       "      <td>Graduate</td>\n",
       "      <td>&lt;2000</td>\n",
       "      <td>13</td>\n",
       "    </tr>\n",
       "    <tr>\n",
       "      <th>4</th>\n",
       "      <td>Graduate</td>\n",
       "      <td>&gt;8000</td>\n",
       "      <td>16</td>\n",
       "    </tr>\n",
       "    <tr>\n",
       "      <th>5</th>\n",
       "      <td>Not Graduate</td>\n",
       "      <td>2000-4000</td>\n",
       "      <td>53</td>\n",
       "    </tr>\n",
       "    <tr>\n",
       "      <th>6</th>\n",
       "      <td>Not Graduate</td>\n",
       "      <td>4000-6000</td>\n",
       "      <td>16</td>\n",
       "    </tr>\n",
       "    <tr>\n",
       "      <th>7</th>\n",
       "      <td>Not Graduate</td>\n",
       "      <td>6000-8000</td>\n",
       "      <td>11</td>\n",
       "    </tr>\n",
       "    <tr>\n",
       "      <th>8</th>\n",
       "      <td>Not Graduate</td>\n",
       "      <td>&lt;2000</td>\n",
       "      <td>9</td>\n",
       "    </tr>\n",
       "  </tbody>\n",
       "</table>\n",
       "</div>"
      ],
      "text/plain": [
       "      education applicant_income_group  number_of_applicant\n",
       "0      Graduate              2000-4000                  124\n",
       "1      Graduate              4000-6000                   62\n",
       "2      Graduate              6000-8000                   24\n",
       "3      Graduate                  <2000                   13\n",
       "4      Graduate                  >8000                   16\n",
       "5  Not Graduate              2000-4000                   53\n",
       "6  Not Graduate              4000-6000                   16\n",
       "7  Not Graduate              6000-8000                   11\n",
       "8  Not Graduate                  <2000                    9"
      ]
     },
     "execution_count": 50,
     "metadata": {},
     "output_type": "execute_result"
    }
   ],
   "source": [
    "df_gr6 = df_gr5.groupby(['education', 'applicant_income_group'])['applicant_income'].count().reset_index()\n",
    "df_gr6.columns = ['education', 'applicant_income_group', 'number_of_applicant']\n",
    "df_gr6"
   ]
  },
  {
   "cell_type": "code",
   "execution_count": 51,
   "id": "b4c2808e",
   "metadata": {},
   "outputs": [
    {
     "data": {
      "text/plain": [
       "Text(-0.5, 205, 'Most Applicants who are graduated or not have applicant income 2000-4000')"
      ]
     },
     "execution_count": 51,
     "metadata": {},
     "output_type": "execute_result"
    },
    {
     "data": {
      "image/png": "[encoded data removed]",
      "text/plain": [
       "<Figure size 1080x720 with 1 Axes>"
      ]
     },
     "metadata": {},
     "output_type": "display_data"
    }
   ],
   "source": [
    "plt.figure(figsize=(15,10))\n",
    "sns.barplot(x='applicant_income_group', y='number_of_applicant', hue='education', data=df_gr6)\n",
    "\n",
    "plt.tick_params(axis='both', which='major', labelsize=12)\n",
    "plt.grid()\n",
    "plt.legend(title='Education Status', title_fontsize=14, prop={'size':12}, loc=9)\n",
    "\n",
    "plt.xlabel('Applicant Income Group(in US Dollar)', fontsize=14)\n",
    "plt.ylabel('Number of Applicant', fontsize=14)\n",
    "plt.text(x=-0.5, y=205, s=\"Most Applicants who are graduated or not have applicant income 2000-4000\",\n",
    "        fontsize=20, fontweight='bold')"
   ]
  },
  {
   "cell_type": "markdown",
   "id": "5509e775",
   "metadata": {},
   "source": [
    "### Analisis pengaruh pendapatan pemohon dan status perkawinan terhadap peminjaman"
   ]
  },
  {
   "cell_type": "code",
   "execution_count": 52,
   "id": "ed06bb34",
   "metadata": {},
   "outputs": [
    {
     "data": {
      "text/html": [
       "<div>\n",
       "<style scoped>\n",
       "    .dataframe tbody tr th:only-of-type {\n",
       "        vertical-align: middle;\n",
       "    }\n",
       "\n",
       "    .dataframe tbody tr th {\n",
       "        vertical-align: top;\n",
       "    }\n",
       "\n",
       "    .dataframe thead th {\n",
       "        text-align: right;\n",
       "    }\n",
       "</style>\n",
       "<table border=\"1\" class=\"dataframe\">\n",
       "  <thead>\n",
       "    <tr style=\"text-align: right;\">\n",
       "      <th></th>\n",
       "      <th>married</th>\n",
       "      <th>applicant_income</th>\n",
       "      <th>number_of_applicant</th>\n",
       "    </tr>\n",
       "  </thead>\n",
       "  <tbody>\n",
       "    <tr>\n",
       "      <th>0</th>\n",
       "      <td>No</td>\n",
       "      <td>1442.0</td>\n",
       "      <td>1</td>\n",
       "    </tr>\n",
       "    <tr>\n",
       "      <th>1</th>\n",
       "      <td>No</td>\n",
       "      <td>1500.0</td>\n",
       "      <td>1</td>\n",
       "    </tr>\n",
       "    <tr>\n",
       "      <th>2</th>\n",
       "      <td>No</td>\n",
       "      <td>1800.0</td>\n",
       "      <td>1</td>\n",
       "    </tr>\n",
       "    <tr>\n",
       "      <th>3</th>\n",
       "      <td>No</td>\n",
       "      <td>1830.0</td>\n",
       "      <td>1</td>\n",
       "    </tr>\n",
       "    <tr>\n",
       "      <th>4</th>\n",
       "      <td>No</td>\n",
       "      <td>1853.0</td>\n",
       "      <td>1</td>\n",
       "    </tr>\n",
       "    <tr>\n",
       "      <th>...</th>\n",
       "      <td>...</td>\n",
       "      <td>...</td>\n",
       "      <td>...</td>\n",
       "    </tr>\n",
       "    <tr>\n",
       "      <th>331</th>\n",
       "      <td>Yes</td>\n",
       "      <td>9323.0</td>\n",
       "      <td>1</td>\n",
       "    </tr>\n",
       "    <tr>\n",
       "      <th>332</th>\n",
       "      <td>Yes</td>\n",
       "      <td>9328.0</td>\n",
       "      <td>1</td>\n",
       "    </tr>\n",
       "    <tr>\n",
       "      <th>333</th>\n",
       "      <td>Yes</td>\n",
       "      <td>9538.0</td>\n",
       "      <td>1</td>\n",
       "    </tr>\n",
       "    <tr>\n",
       "      <th>334</th>\n",
       "      <td>Yes</td>\n",
       "      <td>9703.0</td>\n",
       "      <td>1</td>\n",
       "    </tr>\n",
       "    <tr>\n",
       "      <th>335</th>\n",
       "      <td>Yes</td>\n",
       "      <td>9963.0</td>\n",
       "      <td>1</td>\n",
       "    </tr>\n",
       "  </tbody>\n",
       "</table>\n",
       "<p>336 rows × 3 columns</p>\n",
       "</div>"
      ],
      "text/plain": [
       "    married  applicant_income  number_of_applicant\n",
       "0        No            1442.0                    1\n",
       "1        No            1500.0                    1\n",
       "2        No            1800.0                    1\n",
       "3        No            1830.0                    1\n",
       "4        No            1853.0                    1\n",
       "..      ...               ...                  ...\n",
       "331     Yes            9323.0                    1\n",
       "332     Yes            9328.0                    1\n",
       "333     Yes            9538.0                    1\n",
       "334     Yes            9703.0                    1\n",
       "335     Yes            9963.0                    1\n",
       "\n",
       "[336 rows x 3 columns]"
      ]
     },
     "execution_count": 52,
     "metadata": {},
     "output_type": "execute_result"
    }
   ],
   "source": [
    "df_gr7 = df.groupby(['married','applicant_income'])['loan_id'].count().reset_index()\n",
    "df_gr7.columns = [ 'married','applicant_income', 'number_of_applicant']\n",
    "df_gr7"
   ]
  },
  {
   "cell_type": "code",
   "execution_count": 53,
   "id": "2df44986",
   "metadata": {},
   "outputs": [],
   "source": [
    "df_gr7['applicant_income_group'] = df_gr7['applicant_income'].replace(applicant_income_group)"
   ]
  },
  {
   "cell_type": "code",
   "execution_count": 54,
   "id": "abb084bc",
   "metadata": {},
   "outputs": [
    {
     "data": {
      "text/html": [
       "<div>\n",
       "<style scoped>\n",
       "    .dataframe tbody tr th:only-of-type {\n",
       "        vertical-align: middle;\n",
       "    }\n",
       "\n",
       "    .dataframe tbody tr th {\n",
       "        vertical-align: top;\n",
       "    }\n",
       "\n",
       "    .dataframe thead th {\n",
       "        text-align: right;\n",
       "    }\n",
       "</style>\n",
       "<table border=\"1\" class=\"dataframe\">\n",
       "  <thead>\n",
       "    <tr style=\"text-align: right;\">\n",
       "      <th></th>\n",
       "      <th>married</th>\n",
       "      <th>applicant_income_range</th>\n",
       "      <th>number_of_applicant</th>\n",
       "    </tr>\n",
       "  </thead>\n",
       "  <tbody>\n",
       "    <tr>\n",
       "      <th>0</th>\n",
       "      <td>No</td>\n",
       "      <td>2000-4000</td>\n",
       "      <td>69</td>\n",
       "    </tr>\n",
       "    <tr>\n",
       "      <th>1</th>\n",
       "      <td>No</td>\n",
       "      <td>4000-6000</td>\n",
       "      <td>30</td>\n",
       "    </tr>\n",
       "    <tr>\n",
       "      <th>2</th>\n",
       "      <td>No</td>\n",
       "      <td>6000-8000</td>\n",
       "      <td>13</td>\n",
       "    </tr>\n",
       "    <tr>\n",
       "      <th>3</th>\n",
       "      <td>No</td>\n",
       "      <td>&lt;2000</td>\n",
       "      <td>7</td>\n",
       "    </tr>\n",
       "    <tr>\n",
       "      <th>4</th>\n",
       "      <td>No</td>\n",
       "      <td>&gt;8000</td>\n",
       "      <td>6</td>\n",
       "    </tr>\n",
       "    <tr>\n",
       "      <th>5</th>\n",
       "      <td>Yes</td>\n",
       "      <td>2000-4000</td>\n",
       "      <td>114</td>\n",
       "    </tr>\n",
       "    <tr>\n",
       "      <th>6</th>\n",
       "      <td>Yes</td>\n",
       "      <td>4000-6000</td>\n",
       "      <td>50</td>\n",
       "    </tr>\n",
       "    <tr>\n",
       "      <th>7</th>\n",
       "      <td>Yes</td>\n",
       "      <td>6000-8000</td>\n",
       "      <td>22</td>\n",
       "    </tr>\n",
       "    <tr>\n",
       "      <th>8</th>\n",
       "      <td>Yes</td>\n",
       "      <td>&lt;2000</td>\n",
       "      <td>15</td>\n",
       "    </tr>\n",
       "    <tr>\n",
       "      <th>9</th>\n",
       "      <td>Yes</td>\n",
       "      <td>&gt;8000</td>\n",
       "      <td>10</td>\n",
       "    </tr>\n",
       "  </tbody>\n",
       "</table>\n",
       "</div>"
      ],
      "text/plain": [
       "  married applicant_income_range  number_of_applicant\n",
       "0      No              2000-4000                   69\n",
       "1      No              4000-6000                   30\n",
       "2      No              6000-8000                   13\n",
       "3      No                  <2000                    7\n",
       "4      No                  >8000                    6\n",
       "5     Yes              2000-4000                  114\n",
       "6     Yes              4000-6000                   50\n",
       "7     Yes              6000-8000                   22\n",
       "8     Yes                  <2000                   15\n",
       "9     Yes                  >8000                   10"
      ]
     },
     "execution_count": 54,
     "metadata": {},
     "output_type": "execute_result"
    }
   ],
   "source": [
    "df_gr8 = df_gr7.groupby(['married', 'applicant_income_group'])['applicant_income'].count().reset_index()\n",
    "df_gr8.columns = ['married', 'applicant_income_range', 'number_of_applicant']\n",
    "df_gr8"
   ]
  },
  {
   "cell_type": "code",
   "execution_count": 55,
   "id": "e8ba3bd9",
   "metadata": {},
   "outputs": [
    {
     "data": {
      "text/plain": [
       "Text(-0.5, 205, 'Most Applicants who are graduated or not have applicant income 2000-4000')"
      ]
     },
     "execution_count": 55,
     "metadata": {},
     "output_type": "execute_result"
    },
    {
     "data": {
      "image/png": "[encoded data removed]",
      "text/plain": [
       "<Figure size 720x576 with 1 Axes>"
      ]
     },
     "metadata": {},
     "output_type": "display_data"
    }
   ],
   "source": [
    "plt.figure(figsize=(10,8))\n",
    "sns.barplot(x='applicant_income_range', y='number_of_applicant', hue='married', data=df_gr8)\n",
    "\n",
    "plt.tick_params(axis='both', which='major', labelsize=12)\n",
    "plt.grid()\n",
    "plt.legend(title='Married Status', title_fontsize=14, prop={'size':12}, loc=9)\n",
    "\n",
    "plt.xlabel('Applicant Income Group(in US Dollar)', fontsize=14)\n",
    "plt.ylabel('Number of Applicant', fontsize=14)\n",
    "plt.text(x=-0.5, y=205, s=\"Most Applicants who are graduated or not have applicant income 2000-4000\",\n",
    "        fontsize=20, fontweight='bold')"
   ]
  },
  {
   "cell_type": "markdown",
   "id": "24bfc690",
   "metadata": {},
   "source": [
    "Kesimpulan\n",
    "(dilihat dari peminatan peminjam)\n",
    "\n",
    "Berdasarkan pada pengamatan yang dilakukan dapat disimpulkan bahwa perilaku pelanggan baik perempuan atau laki-laki kebanyakan mengajukan pinjaman untuk tipe properti apartemen. Kemudian jika dilihat dari status perkawinan, pelanggan yang sudah menikah atau belum menikah merasa jangka waktu ideal dalam meminjam adalah selama 30 tahun. Selain itu ada pula hal yang menarik untuk pelanggan yang sudah menikah, terlihat beberapa pelanggan tertarik meminjam dengan jangka waktu 15-25 tahun. Dapat dilihat juga pelanggan yang sudah menikah atau belum menikah rata-rata memiliki penghasilan 2000-4000. "
   ]
  },
  {
   "cell_type": "code",
   "execution_count": null,
   "id": "03992122",
   "metadata": {},
   "outputs": [],
   "source": []
  }
 ],
 "metadata": {
  "kernelspec": {
   "display_name": "Python 3 (ipykernel)",
   "language": "python",
   "name": "python3"
  },
  "language_info": {
   "codemirror_mode": {
    "name": "ipython",
    "version": 3
   },
   "file_extension": ".py",
   "mimetype": "text/x-python",
   "name": "python",
   "nbconvert_exporter": "python",
   "pygments_lexer": "ipython3",
   "version": "3.9.12"
  }
 },
 "nbformat": 4,
 "nbformat_minor": 5
}
